{
  "cells": [
    {
      "cell_type": "markdown",
      "metadata": {
        "id": "agnfqs5FnoK9"
      },
      "source": [
        "# Shortest path between actors\n",
        "\n",
        "What's the shortest path between two actors, via films they've acted together?"
      ]
    },
    {
      "cell_type": "markdown",
      "metadata": {
        "id": "Prb22Wnx9rfu"
      },
      "source": [
        "# Download IMDb Data\n",
        "\n",
        "[IMDb Datasets](https://www.imdb.com/interfaces/) provide dumps of all movie data. We'll download 3 tables:\n",
        "\n",
        "## name.basics.tsv.gz\n",
        "\n",
        "**nconst**|**primaryName**|**birthYear**|**deathYear**|**primaryProfession**|**knownForTitles**\n",
        ":-----:|:-----:|:-----:|:-----:|:-----:|:-----:\n",
        "nm0000001|Fred Astaire|1899|1987|soundtrack,actor,miscellaneous|tt0031983,tt0072308,tt0053137,tt0050419\n",
        "nm0000002|Lauren Bacall|1924|2014|actress,soundtrack|tt0071877,tt0037382,tt0038355,tt0117057\n",
        "nm0000003|Brigitte Bardot|1934|\\N|actress,soundtrack,music\\_department|tt0054452,tt0049189,tt0056404,tt0057345\n",
        "nm0000004|John Belushi|1949|1982|actor,soundtrack,writer|tt0080455,tt0078723,tt0072562,tt0077975\n",
        "nm0000005|Ingmar Bergman|1918|2007|writer,director,actor|tt0050976,tt0050986,tt0060827,tt0083922\n",
        "\n",
        "## title.basics.tsv.gz\n",
        "\n",
        "**tconst**|**titleType**|**primaryTitle**|**originalTitle**|**isAdult**|**startYear**|**endYear**|**runtimeMinutes**|**genres**\n",
        ":-----:|:-----:|:-----:|:-----:|:-----:|:-----:|:-----:|:-----:|:-----:\n",
        "tt0000001|short|Carmencita|Carmencita|0|1894|\\N|1|Documentary,Short\n",
        "tt0000002|short|Le clown et ses chiens|Le clown et ses chiens|0|1892|\\N|5|Animation,Short\n",
        "tt0000003|short|Pauvre Pierrot|Pauvre Pierrot|0|1892|\\N|4|Animation,Comedy,Romance\n",
        "tt0000004|short|Un bon bock|Un bon bock|0|1892|\\N|12|Animation,Short\n",
        "tt0000005|short|Blacksmith Scene|Blacksmith Scene|0|1893|\\N|1|Comedy,Short\n",
        "\n",
        "## title.principals.tsv.gz\n",
        "\n",
        "**tconst**|**ordering**|**nconst**|**category**|**job**|**characters**\n",
        ":-----:|:-----:|:-----:|:-----:|:-----:|:-----:\n",
        "tt0000001|1|nm1588970|self|\\N|[\"Self\"]\n",
        "tt0000001|2|nm0005690|director|\\N|\\N\n",
        "tt0000001|3|nm0374658|cinematographer|director of photography|\\N\n",
        "tt0000002|1|nm0721526|director|\\N|\\N\n",
        "tt0000002|2|nm1335271|composer|\\N|\\N"
      ]
    },
    {
      "cell_type": "code",
      "execution_count": 1,
      "metadata": {
        "colab": {
          "base_uri": "https://localhost:8080/"
        },
        "id": "QduW6UCcnjqw",
        "outputId": "8c450cd3-ab62-4b12-f2a9-92b60af87cbf"
      },
      "outputs": [
        {
          "name": "stdout",
          "output_type": "stream",
          "text": [
            "-rw-rw-r-- 1 shakir shakir 263051457 Mar 17 13:44 name.basics.tsv.gz\n",
            "-rw-rw-r-- 1 shakir shakir 186362322 Mar 17 13:44 title.basics.tsv.gz\n",
            "-rw-rw-r-- 1 shakir shakir 470605995 Mar 17 13:44 title.principals.tsv.gz\n"
          ]
        }
      ],
      "source": [
        "# Download the data\n",
        "# !rm -f *.tsv.gz\n",
        "!curl --silent -C - -o name.basics.tsv.gz https://datasets.imdbws.com/name.basics.tsv.gz\n",
        "!curl --silent -C - -o title.principals.tsv.gz https://datasets.imdbws.com/title.principals.tsv.gz\n",
        "!curl --silent -C - -o title.basics.tsv.gz https://datasets.imdbws.com/title.basics.tsv.gz\n",
        "!ls -la *.tsv.gz"
      ]
    },
    {
      "cell_type": "code",
      "execution_count": 2,
      "metadata": {
        "id": "5asLli48nr3L"
      },
      "outputs": [],
      "source": [
        "# These gzip files have trailing garbage.\n",
        "# Python's gzip module does not read GZIP files with trailing garbage.\n",
        "# Let's create an equivalent of pandas.read_csv() that works around it.\n",
        "# See https://stackoverflow.com/a/54608126/100904\n",
        "import zlib\n",
        "import io\n",
        "import pandas as pd\n",
        "\n",
        "def read_csv(path, **kwargs):\n",
        "    with open(path, 'rb') as handle:\n",
        "        raw = handle.read()\n",
        "    stream = io.BytesIO(zlib.decompress(raw, zlib.MAX_WBITS|16))\n",
        "    return pd.read_csv(stream, **kwargs)"
      ]
    },
    {
      "cell_type": "code",
      "execution_count": 3,
      "metadata": {
        "id": "rgiUdZTpn9Ib"
      },
      "outputs": [],
      "source": [
        "# Load the movies. This needs ~1.4GB RAM, 15s\n",
        "movies = read_csv('title.basics.tsv.gz', sep='\\t', na_values='\\\\N', dtype={\n",
        "    'tconst': 'str',\n",
        "    'titleType': 'str',\n",
        "    'primaryTitle': 'str',\n",
        "    'startYear': 'Int64',\n",
        "}, usecols=['tconst', 'titleType', 'primaryTitle', 'startYear']).set_index('tconst')"
      ]
    },
    {
      "cell_type": "code",
      "execution_count": 4,
      "metadata": {
        "colab": {
          "base_uri": "https://localhost:8080/",
          "height": 237
        },
        "id": "f2jj9F3In_PL",
        "outputId": "114e9caa-fe31-4496-8262-d2aeeccc7512"
      },
      "outputs": [
        {
          "data": {
            "text/html": [
              "<div>\n",
              "<style scoped>\n",
              "    .dataframe tbody tr th:only-of-type {\n",
              "        vertical-align: middle;\n",
              "    }\n",
              "\n",
              "    .dataframe tbody tr th {\n",
              "        vertical-align: top;\n",
              "    }\n",
              "\n",
              "    .dataframe thead th {\n",
              "        text-align: right;\n",
              "    }\n",
              "</style>\n",
              "<table border=\"1\" class=\"dataframe\">\n",
              "  <thead>\n",
              "    <tr style=\"text-align: right;\">\n",
              "      <th></th>\n",
              "      <th>primaryTitle</th>\n",
              "      <th>startYear</th>\n",
              "    </tr>\n",
              "    <tr>\n",
              "      <th>tconst</th>\n",
              "      <th></th>\n",
              "      <th></th>\n",
              "    </tr>\n",
              "  </thead>\n",
              "  <tbody>\n",
              "    <tr>\n",
              "      <th>tt0000009</th>\n",
              "      <td>Miss Jerry</td>\n",
              "      <td>1894</td>\n",
              "    </tr>\n",
              "    <tr>\n",
              "      <th>tt0000147</th>\n",
              "      <td>The Corbett-Fitzsimmons Fight</td>\n",
              "      <td>1897</td>\n",
              "    </tr>\n",
              "    <tr>\n",
              "      <th>tt0000502</th>\n",
              "      <td>Bohemios</td>\n",
              "      <td>1905</td>\n",
              "    </tr>\n",
              "    <tr>\n",
              "      <th>tt0000574</th>\n",
              "      <td>The Story of the Kelly Gang</td>\n",
              "      <td>1906</td>\n",
              "    </tr>\n",
              "    <tr>\n",
              "      <th>tt0000591</th>\n",
              "      <td>The Prodigal Son</td>\n",
              "      <td>1907</td>\n",
              "    </tr>\n",
              "  </tbody>\n",
              "</table>\n",
              "</div>"
            ],
            "text/plain": [
              "                            primaryTitle  startYear\n",
              "tconst                                             \n",
              "tt0000009                     Miss Jerry       1894\n",
              "tt0000147  The Corbett-Fitzsimmons Fight       1897\n",
              "tt0000502                       Bohemios       1905\n",
              "tt0000574    The Story of the Kelly Gang       1906\n",
              "tt0000591               The Prodigal Son       1907"
            ]
          },
          "execution_count": 4,
          "metadata": {},
          "output_type": "execute_result"
        }
      ],
      "source": [
        "# Only consider movies, not TV series, etc. Shrinks data to ~5%\n",
        "movies = movies[movies['titleType'] == 'movie']\n",
        "del movies['titleType']\n",
        "movies.head()"
      ]
    },
    {
      "cell_type": "code",
      "execution_count": 5,
      "metadata": {
        "id": "oADl2-Z2oDXm"
      },
      "outputs": [],
      "source": [
        "# Load the cast of each film. 2.0 GB RAM. 30s\n",
        "cast = read_csv('title.principals.tsv.gz', sep='\\t', na_values='\\\\N', dtype={\n",
        "    'tconst': 'str',\n",
        "    'nconst': 'str',\n",
        "    'category': 'str',\n",
        "}, usecols=['tconst', 'nconst', 'category'])"
      ]
    },
    {
      "cell_type": "code",
      "execution_count": 6,
      "metadata": {
        "colab": {
          "base_uri": "https://localhost:8080/",
          "height": 206
        },
        "id": "WnNXO7UBoEx_",
        "outputId": "f4e8fbda-e14a-44fb-9b4a-bb1ed780bf12"
      },
      "outputs": [
        {
          "data": {
            "text/html": [
              "<div>\n",
              "<style scoped>\n",
              "    .dataframe tbody tr th:only-of-type {\n",
              "        vertical-align: middle;\n",
              "    }\n",
              "\n",
              "    .dataframe tbody tr th {\n",
              "        vertical-align: top;\n",
              "    }\n",
              "\n",
              "    .dataframe thead th {\n",
              "        text-align: right;\n",
              "    }\n",
              "</style>\n",
              "<table border=\"1\" class=\"dataframe\">\n",
              "  <thead>\n",
              "    <tr style=\"text-align: right;\">\n",
              "      <th></th>\n",
              "      <th>tconst</th>\n",
              "      <th>nconst</th>\n",
              "      <th>category</th>\n",
              "    </tr>\n",
              "  </thead>\n",
              "  <tbody>\n",
              "    <tr>\n",
              "      <th>0</th>\n",
              "      <td>tt0000009</td>\n",
              "      <td>nm0063086</td>\n",
              "      <td>actress</td>\n",
              "    </tr>\n",
              "    <tr>\n",
              "      <th>1</th>\n",
              "      <td>tt0000009</td>\n",
              "      <td>nm0183823</td>\n",
              "      <td>actor</td>\n",
              "    </tr>\n",
              "    <tr>\n",
              "      <th>2</th>\n",
              "      <td>tt0000009</td>\n",
              "      <td>nm1309758</td>\n",
              "      <td>actor</td>\n",
              "    </tr>\n",
              "    <tr>\n",
              "      <th>3</th>\n",
              "      <td>tt0000502</td>\n",
              "      <td>nm0215752</td>\n",
              "      <td>actor</td>\n",
              "    </tr>\n",
              "    <tr>\n",
              "      <th>4</th>\n",
              "      <td>tt0000502</td>\n",
              "      <td>nm0252720</td>\n",
              "      <td>actor</td>\n",
              "    </tr>\n",
              "  </tbody>\n",
              "</table>\n",
              "</div>"
            ],
            "text/plain": [
              "      tconst     nconst category\n",
              "0  tt0000009  nm0063086  actress\n",
              "1  tt0000009  nm0183823    actor\n",
              "2  tt0000009  nm1309758    actor\n",
              "3  tt0000502  nm0215752    actor\n",
              "4  tt0000502  nm0252720    actor"
            ]
          },
          "execution_count": 6,
          "metadata": {},
          "output_type": "execute_result"
        }
      ],
      "source": [
        "# Only consider actors, not directors, composers, etc. Shrinks data to about 40%\n",
        "# Only consider actors that have acted in movies, not TV series, etc.\n",
        "cast = cast[cast.category.isin({'actor', 'actress'}) & cast['tconst'].isin(movies.index)]\n",
        "cast.reset_index(drop=True, inplace=True)\n",
        "cast.head()"
      ]
    },
    {
      "cell_type": "code",
      "execution_count": 7,
      "metadata": {
        "id": "El35p11_oF_U"
      },
      "outputs": [],
      "source": [
        "# Load 11m names with birth year. 16s\n",
        "name = read_csv('name.basics.tsv.gz', sep='\\t', na_values='\\\\N', dtype={\n",
        "    'nconst': 'str',\n",
        "    'primaryName': 'str',\n",
        "    'birthYear': 'Int64'\n",
        "}, usecols=['nconst', 'primaryName', 'birthYear']).set_index('nconst')"
      ]
    },
    {
      "cell_type": "code",
      "execution_count": 8,
      "metadata": {
        "colab": {
          "base_uri": "https://localhost:8080/",
          "height": 237
        },
        "id": "PADeAXR7oHSO",
        "outputId": "61fdd770-7605-45e2-cfae-f3772c0d1e07"
      },
      "outputs": [
        {
          "data": {
            "text/html": [
              "<div>\n",
              "<style scoped>\n",
              "    .dataframe tbody tr th:only-of-type {\n",
              "        vertical-align: middle;\n",
              "    }\n",
              "\n",
              "    .dataframe tbody tr th {\n",
              "        vertical-align: top;\n",
              "    }\n",
              "\n",
              "    .dataframe thead th {\n",
              "        text-align: right;\n",
              "    }\n",
              "</style>\n",
              "<table border=\"1\" class=\"dataframe\">\n",
              "  <thead>\n",
              "    <tr style=\"text-align: right;\">\n",
              "      <th></th>\n",
              "      <th>primaryName</th>\n",
              "      <th>birthYear</th>\n",
              "      <th>titles</th>\n",
              "    </tr>\n",
              "    <tr>\n",
              "      <th>nconst</th>\n",
              "      <th></th>\n",
              "      <th></th>\n",
              "      <th></th>\n",
              "    </tr>\n",
              "  </thead>\n",
              "  <tbody>\n",
              "    <tr>\n",
              "      <th>nm0000001</th>\n",
              "      <td>Fred Astaire</td>\n",
              "      <td>1899</td>\n",
              "      <td>35</td>\n",
              "    </tr>\n",
              "    <tr>\n",
              "      <th>nm0000002</th>\n",
              "      <td>Lauren Bacall</td>\n",
              "      <td>1924</td>\n",
              "      <td>37</td>\n",
              "    </tr>\n",
              "    <tr>\n",
              "      <th>nm0000003</th>\n",
              "      <td>Brigitte Bardot</td>\n",
              "      <td>1934</td>\n",
              "      <td>35</td>\n",
              "    </tr>\n",
              "    <tr>\n",
              "      <th>nm0000004</th>\n",
              "      <td>John Belushi</td>\n",
              "      <td>1949</td>\n",
              "      <td>7</td>\n",
              "    </tr>\n",
              "    <tr>\n",
              "      <th>nm0000005</th>\n",
              "      <td>Ingmar Bergman</td>\n",
              "      <td>1918</td>\n",
              "      <td>3</td>\n",
              "    </tr>\n",
              "  </tbody>\n",
              "</table>\n",
              "</div>"
            ],
            "text/plain": [
              "               primaryName  birthYear  titles\n",
              "nconst                                       \n",
              "nm0000001     Fred Astaire       1899      35\n",
              "nm0000002    Lauren Bacall       1924      37\n",
              "nm0000003  Brigitte Bardot       1934      35\n",
              "nm0000004     John Belushi       1949       7\n",
              "nm0000005   Ingmar Bergman       1918       3"
            ]
          },
          "execution_count": 8,
          "metadata": {},
          "output_type": "execute_result"
        }
      ],
      "source": [
        "# Drop those who haven't acted in movies\n",
        "name = name[name.index.isin(cast['nconst'])]\n",
        "# name['titles'] has the number of movies they've acted in\n",
        "name['titles'] = cast['nconst'].value_counts()\n",
        "\n",
        "name.head()"
      ]
    },
    {
      "cell_type": "markdown",
      "metadata": {
        "id": "yf4euc15oTtS"
      },
      "source": [
        "# Create a `networkx` graph from this"
      ]
    },
    {
      "cell_type": "code",
      "execution_count": 10,
      "metadata": {
        "id": "GHifz9AooOAe"
      },
      "outputs": [],
      "source": [
        "import networkx as nx\n",
        "G = nx.from_pandas_edgelist(cast, 'tconst', 'nconst')"
      ]
    },
    {
      "cell_type": "code",
      "execution_count": null,
      "metadata": {
        "id": "OKlxIamuKRVj"
      },
      "outputs": [],
      "source": []
    },
    {
      "cell_type": "code",
      "execution_count": 11,
      "metadata": {
        "colab": {
          "base_uri": "https://localhost:8080/"
        },
        "id": "6LF61aGBI6V6",
        "outputId": "b472671c-93a1-4232-c04f-fc2ce8fdcccb"
      },
      "outputs": [
        {
          "name": "stdout",
          "output_type": "stream",
          "text": [
            "Lazzarus Powell's nconst: ['nm2376957']\n",
            "Kenneth Hadley's nconst: ['nm0352901']\n"
          ]
        }
      ],
      "source": [
        "\n",
        "\n",
        "# Load the name.basics.tsv file\n",
        "names_df = pd.read_csv('name.basics.tsv.gz', sep='\\t', low_memory=False)\n",
        "\n"
      ]
    },
    {
      "cell_type": "code",
      "execution_count": 11,
      "metadata": {},
      "outputs": [],
      "source": [
        "\n",
        "\n",
        "# Load the name.basics.tsv file\n",
        "names_df = read_csv('name.basics.tsv.gz', sep='\\t', low_memory=False)\n",
        "\n"
      ]
    },
    {
      "cell_type": "code",
      "execution_count": 12,
      "metadata": {
        "colab": {
          "base_uri": "https://localhost:8080/"
        },
        "id": "ISGwDo5WWbZN",
        "outputId": "3141a50f-bc39-4504-904f-0a7a32f103ed"
      },
      "outputs": [
        {
          "name": "stdout",
          "output_type": "stream",
          "text": [
            "Lazzarus Powell's nconst: ['nm2376957']\n",
            "Kenneth Hadley's nconst: ['nm0352901']\n"
          ]
        }
      ],
      "source": [
        "# Search for Lazzarus Powell\n",
        "lazzarus_powell = names_df[names_df['primaryName'] == 'Lazzarus Powell']\n",
        "print(\"Lazzarus Powell's nconst:\", lazzarus_powell['nconst'].values)\n",
        "\n",
        "# Search for Kenneth Hadley\n",
        "kenneth_hadley = names_df[names_df['primaryName'] == 'Kenneth Hadley']\n",
        "print(\"Kenneth Hadley's nconst:\", kenneth_hadley['nconst'].values)\n"
      ]
    },
    {
      "cell_type": "code",
      "execution_count": null,
      "metadata": {},
      "outputs": [],
      "source": [
        "kenneth_hadley['nconst'].values"
      ]
    },
    {
      "cell_type": "code",
      "execution_count": 20,
      "metadata": {
        "colab": {
          "base_uri": "https://localhost:8080/",
          "height": 332
        },
        "id": "vC2WsRC6ZI8z",
        "outputId": "a4e61897-dbb1-4da9-d0b2-fcab56cdb6cb"
      },
      "outputs": [],
      "source": [
        "# Assuming you have already created the graph G and found the nconst values for the actors\n",
        "lazzarus_nconst = lazzarus_powell['nconst'].values[0]\n",
        "kenneth_nconst = kenneth_hadley['nconst'].values[0]\n",
        "\n",
        "# Find all paths between Lazzarus Powell and Kenneth Hadley\n",
        "all_paths = list(nx.all_simple_paths(G, source=lazzarus_nconst, target=kenneth_nconst))\n",
        "\n",
        "# Print all paths\n",
        "for path in all_paths:\n",
        "    print(\"Path:\", path)\n"
      ]
    },
    {
      "cell_type": "code",
      "execution_count": 14,
      "metadata": {
        "id": "5ht2EPBuZ3Vb"
      },
      "outputs": [],
      "source": [
        "# Paths provided in the question\n",
        "paths = [\n",
        "    [\"Lazzarus Powell\", \"Checkmate\", \"Fat Joe\", \"Thicker Than Water\", \"Ice Cube\", \"Kenneth Hadley\"],\n",
        "    [\"Lazzarus Powell\", \"Checkmate\", \"Fat Joe\", \"Thicker Than Water\", \"Ice Cube\", \"xXx: State of the Union\", \"Scott Speedman\", \"Kenneth Hadley\"],\n",
        "    [\"Lazzarus Powell\", \"Checkmate\", \"Fat Joe\", \"Thicker Than Water\", \"Ice Cube\", \"xXx: State of the Union\", \"Scott Speedman\", \"Underworld: Evolution\", \"Bill Nighy\", \"Sometimes Always Never\", \"Alice Lowe\", \"Sightseers\", \"Kenneth Hadley\"]\n",
        "]\n",
        "\n",
        "# Function to check if a path is valid\n",
        "def is_valid_path(path):\n",
        "    for i in range(0, len(path) - 2, 2):\n",
        "        actor = path[i]\n",
        "        movie = path[i + 1]\n",
        "        next_actor = path[i + 2]\n",
        "        # Check if the actor and the next actor appeared in the movie\n",
        "        if not ((cast['nconst'] == name[name['primaryName'] == actor].index[0]) & (cast['tconst'] == movies[movies['primaryTitle'] == movie].index[0])).any():\n",
        "            return False\n",
        "        if not ((cast['nconst'] == name[name['primaryName'] == next_actor].index[0]) & (cast['tconst'] == movies[movies['primaryTitle'] == movie].index[0])).any():\n",
        "            return False\n",
        "    return True\n",
        "\n",
        "# Check each path\n",
        "for path in paths:\n",
        "    if is_valid_path(path):\n",
        "        print(\"Valid path:\", \" - \".join(path))\n"
      ]
    },
    {
      "cell_type": "code",
      "execution_count": 16,
      "metadata": {
        "colab": {
          "base_uri": "https://localhost:8080/"
        },
        "id": "TkkMBUBTbF7G",
        "outputId": "cd6d5b4d-3950-449a-89f4-f317cdbf7a69"
      },
      "outputs": [
        {
          "name": "stdout",
          "output_type": "stream",
          "text": [
            "nm2376957 nm0196117\n",
            "nm2376957 nm0196117\n",
            "nm2376957 nm0196117\n"
          ]
        }
      ],
      "source": [
        "# Paths provided in the question\n",
        "paths = [\n",
        "    [\"Lazzarus Powell\", \"Checkmate\", \"Fat Joe\", \"Thicker Than Water\", \"Ice Cube\", \"Kenneth Hadley\"],\n",
        "    [\"Lazzarus Powell\", \"Checkmate\", \"Fat Joe\", \"Thicker Than Water\", \"Ice Cube\", \"xXx: State of the Union\", \"Scott Speedman\", \"Kenneth Hadley\"],\n",
        "    [\"Lazzarus Powell\", \"Checkmate\", \"Fat Joe\", \"Thicker Than Water\", \"Ice Cube\", \"xXx: State of the Union\", \"Scott Speedman\", \"Underworld: Evolution\", \"Bill Nighy\", \"Sometimes Always Never\", \"Alice Lowe\", \"Sightseers\", \"Kenneth Hadley\"]\n",
        "]\n",
        "\n",
        "# Function to check if a path is valid\n",
        "def is_valid_path(path):\n",
        "    for i in range(0, len(path) - 2, 2):\n",
        "        actor = path[i]\n",
        "        movie = path[i + 1]\n",
        "        next_actor = path[i + 2]\n",
        "        # Check if the actor and the next actor appeared in the movie\n",
        "        actor_nconst = name[name['primaryName'] == actor].index[0]\n",
        "        next_actor_nconst = name[name['primaryName'] == next_actor].index[0]\n",
        "        movie_tconst = movies[movies['primaryTitle'] == movie].index[0]\n",
        "        print(actor_nconst,next_actor_nconst)\n",
        "        if not ((cast['nconst'] == actor_nconst) & (cast['tconst'] == movie_tconst)).any():\n",
        "            return False\n",
        "        if not ((cast['nconst'] == next_actor_nconst) & (cast['tconst'] == movie_tconst)).any():\n",
        "            return False\n",
        "    return True\n",
        "\n",
        "# Check each path\n",
        "for path in paths:\n",
        "    if is_valid_path(path):\n",
        "        print(\"Valid path:\", \" - \".join(path))\n"
      ]
    },
    {
      "cell_type": "code",
      "execution_count": 24,
      "metadata": {
        "id": "8i_GC0Tudo9A"
      },
      "outputs": [],
      "source": [
        "# Paths provided in the question\n",
        "paths = [\n",
        "    [\"Lazzarus Powell\", \"Checkmate\", \"Fat Joe\", \"Thicker Than Water\", \"Ice Cube\", \"Kenneth Hadley\"],\n",
        "    [\"Lazzarus Powell\", \"Checkmate\", \"Fat Joe\", \"Thicker Than Water\", \"Ice Cube\", \"xXx: State of the Union\", \"Scott Speedman\", \"Kenneth Hadley\"],\n",
        "    [\"Lazzarus Powell\", \"Checkmate\", \"Fat Joe\", \"Thicker Than Water\", \"Ice Cube\", \"xXx: State of the Union\", \"Scott Speedman\", \"Underworld: Evolution\", \"Bill Nighy\", \"Sometimes Always Never\", \"Alice Lowe\", \"Sightseers\", \"Kenneth Hadley\"]\n",
        "]\n",
        "\n",
        "# Function to check if a path is valid\n",
        "def is_valid_path(path):\n",
        "    for i in range(0, len(path) - 2, 2):\n",
        "        actor = path[i]\n",
        "        movie = path[i + 1]\n",
        "        next_actor = path[i + 2]\n",
        "        # Check if the actor and the next actor appeared in the movie\n",
        "        actor_nconst = name[name['primaryName'] == actor].index[0]\n",
        "        next_actor_nconst = name[name['primaryName'] == next_actor].index[0]\n",
        "        movie_tconst = movies[movies['primaryTitle'] == movie].index[0]\n",
        "        if not ((cast['nconst'] == actor_nconst) & (cast['tconst'] == movie_tconst)).any():\n",
        "            return False\n",
        "        if not ((cast['nconst'] == next_actor_nconst) & (cast['tconst'] == movie_tconst)).any():\n",
        "            return False\n",
        "    return True\n",
        "\n",
        "# Check each path\n",
        "valid_paths = []\n",
        "for path in paths:\n",
        "    if is_valid_path(path):\n",
        "        valid_paths.append(path)\n",
        "\n",
        "# Print valid paths\n",
        "for path in valid_paths:\n",
        "    print(\"Valid path:\", \" - \".join(path))\n"
      ]
    },
    {
      "cell_type": "code",
      "execution_count": 13,
      "metadata": {
        "colab": {
          "base_uri": "https://localhost:8080/"
        },
        "id": "S7njBMSQOGlE",
        "outputId": "a0159b29-0a02-48df-bcfe-0ccd71fd8d84"
      },
      "outputs": [
        {
          "name": "stdout",
          "output_type": "stream",
          "text": [
            "['nm2376957', 'tt6059750', 'nm4098919', 'tt19866398', 'nm9629900', 'tt15532522', 'nm0234174', 'tt5207838', 'nm1546206', 'tt3449664', 'nm1361530', 'tt2023690', 'nm0352901']\n"
          ]
        }
      ],
      "source": [
        "if 'nm2376957' in G and 'nm0352901' in G:\n",
        "    path = nx.shortest_path(G, 'nm2376957', 'nm0352901')\n",
        "    print(path)\n",
        "else:\n",
        "    print(\"One or both nodes are not in the graph.\")\n"
      ]
    },
    {
      "cell_type": "code",
      "execution_count": 14,
      "metadata": {
        "colab": {
          "base_uri": "https://localhost:8080/"
        },
        "id": "WlmmsisuOsOa",
        "outputId": "0309f699-7c8b-471a-804f-082b09229a4d"
      },
      "outputs": [
        {
          "data": {
            "text/plain": [
              "['nm2376957',\n",
              " 'tt6059750',\n",
              " 'nm4098919',\n",
              " 'tt19866398',\n",
              " 'nm9629900',\n",
              " 'tt15532522',\n",
              " 'nm0234174',\n",
              " 'tt5207838',\n",
              " 'nm1546206',\n",
              " 'tt3449664',\n",
              " 'nm1361530',\n",
              " 'tt2023690',\n",
              " 'nm0352901']"
            ]
          },
          "execution_count": 14,
          "metadata": {},
          "output_type": "execute_result"
        }
      ],
      "source": [
        "# We can find the shortest path between 2 actors. For example, Lazzarus Powell (nm2376957) and Kenneth Hadley (nm0352901)\n",
        "nx.shortest_path(G, 'nm2376957', 'nm0352901')"
      ]
    },
    {
      "cell_type": "code",
      "execution_count": 15,
      "metadata": {
        "id": "RpUeIOVkpRTx"
      },
      "outputs": [],
      "source": [
        "# Let's write a function that converts these IDs into names\n",
        "def names(path):\n",
        "    return ' - '.join((movies['primaryTitle'][p] if p.startswith('tt') else name['primaryName'][p]) for p in path)\n",
        "\n",
        "# ... and a function that\n",
        "def path(source, target):\n",
        "    source = name[name['primaryName'] == source].index[0]\n",
        "    target = name[name['primaryName'] == target].index[0]\n",
        "    return names(nx.shortest_path(G, source, target))"
      ]
    },
    {
      "cell_type": "code",
      "execution_count": 16,
      "metadata": {
        "colab": {
          "base_uri": "https://localhost:8080/",
          "height": 52
        },
        "id": "yHTAqeczpSl3",
        "outputId": "c9535a08-cf41-44ec-b422-887379c6e854"
      },
      "outputs": [
        {
          "data": {
            "application/vnd.google.colaboratory.intrinsic+json": {
              "type": "string"
            },
            "text/plain": [
              "'Lazzarus Powell - Long Crime No See - Lester Greene - Driving Force - Michelle l Lamb - The Waterboyz - Omar J. Dorsey - Cargo - Warren Brown - Captain Webb - Steve Oram - Sightseers - Kenneth Hadley'"
            ]
          },
          "execution_count": 16,
          "metadata": {},
          "output_type": "execute_result"
        }
      ],
      "source": [
        "# This is the shortest path between Robin Williams (nm0000245) and Angelina Jolie (nm0001401)\n",
        "path('Lazzarus Powell', 'Kenneth Hadley')"
      ]
    },
    {
      "cell_type": "code",
      "execution_count": 17,
      "metadata": {
        "id": "fknjNxhyqTc2"
      },
      "outputs": [],
      "source": [
        "# There many be multiple paths between them. Let's list them all\n",
        "def paths(source, target):\n",
        "    source = name[name['primaryName'] == source].index[0]\n",
        "    target = name[name['primaryName'] == target].index[0]\n",
        "    return [names(p) for p in nx.all_shortest_paths(G, source, target)]"
      ]
    },
    {
      "cell_type": "code",
      "execution_count": 18,
      "metadata": {
        "colab": {
          "base_uri": "https://localhost:8080/"
        },
        "id": "VYHsOMaIqzHn",
        "outputId": "427b344d-806f-420b-fa74-4b97b434b1f6"
      },
      "outputs": [
        {
          "data": {
            "text/plain": [
              "['Lazzarus Powell - Long Crime No See - Lester Greene - Driving Force - Michelle l Lamb - The Waterboyz - Omar J. Dorsey - Cargo - Warren Brown - Captain Webb - Steve Oram - Sightseers - Kenneth Hadley',\n",
              " 'Lazzarus Powell - Checkmate - Fat Joe - Thicker Than Water - Ice Cube - Anaconda - Eric Stoltz - A Murder of Crows - Marianne Jean-Baptiste - In Fabric - Steve Oram - Sightseers - Kenneth Hadley',\n",
              " 'Lazzarus Powell - Checkmate - Fat Joe - This Is Me... Now - Jennifer Lopez - Anaconda - Eric Stoltz - A Murder of Crows - Marianne Jean-Baptiste - In Fabric - Steve Oram - Sightseers - Kenneth Hadley',\n",
              " 'Lazzarus Powell - Checkmate - Fat Joe - Thicker Than Water - Ice Cube - Torque - Martin Henderson - The Moment - Marianne Jean-Baptiste - In Fabric - Steve Oram - Sightseers - Kenneth Hadley',\n",
              " 'Lazzarus Powell - Checkmate - Fat Joe - This Is Me... Now - Ben Affleck - Paycheck - Aaron Eckhart - Rumble Through the Dark - Marianne Jean-Baptiste - In Fabric - Steve Oram - Sightseers - Kenneth Hadley',\n",
              " 'Lazzarus Powell - Checkmate - Fat Joe - This Is Me... Now - Ben Affleck - The Last Thing He Wanted - Rosie Perez - The 24 Hour Woman - Marianne Jean-Baptiste - In Fabric - Steve Oram - Sightseers - Kenneth Hadley',\n",
              " \"Lazzarus Powell - Checkmate - Alex Maisonette - D'Curse - Michael Wright - The Five Heartbeats - Harry Lennix - Don't Explain - Marianne Jean-Baptiste - In Fabric - Steve Oram - Sightseers - Kenneth Hadley\",\n",
              " 'Lazzarus Powell - Checkmate - Fat Joe - This Is Me... Now - Ben Affleck - To the Wonder - Olga Kurylenko - The Translators - Sidse Babett Knudsen - In Fabric - Steve Oram - Sightseers - Kenneth Hadley',\n",
              " 'Lazzarus Powell - Checkmate - Fat Joe - 179th Street - Vincent Pastore - Street Justice - Michael Nouri - Fatal Sky - Derren Nesbitt - Tucked - Steve Oram - Sightseers - Kenneth Hadley',\n",
              " 'Lazzarus Powell - Checkmate - Fat Joe - Big Pun Live - RZA - Coffee and Cigarettes - Bill Murray - The Man Who Knew Too Little - Richard Wilson - Sweetly It Turns - Steve Oram - Sightseers - Kenneth Hadley',\n",
              " 'Lazzarus Powell - Checkmate - Fat Joe - Thicker Than Water - Ice Cube - Ghosts of Mars - Jason Statham - 13 - Sam Riley - Sometimes Always Never - Alice Lowe - Sightseers - Kenneth Hadley',\n",
              " 'Lazzarus Powell - Checkmate - Fat Joe - 179th Street - Vincent Pastore - Revolver - Jason Statham - 13 - Sam Riley - Sometimes Always Never - Alice Lowe - Sightseers - Kenneth Hadley',\n",
              " 'Lazzarus Powell - Checkmate - Fat Joe - This Is Me... Now - Jennifer Lopez - Parker - Jason Statham - 13 - Sam Riley - Sometimes Always Never - Alice Lowe - Sightseers - Kenneth Hadley',\n",
              " 'Lazzarus Powell - Checkmate - Fat Joe - This Is Me... Now - Ben Affleck - State of Play - Helen Mirren - Brighton Rock - Sam Riley - Sometimes Always Never - Alice Lowe - Sightseers - Kenneth Hadley',\n",
              " \"Lazzarus Powell - Checkmate - Fat Joe - This Is Me... Now - Ben Affleck - Zack Snyder's Justice League - Amy Adams - On the Road - Sam Riley - Sometimes Always Never - Alice Lowe - Sightseers - Kenneth Hadley\",\n",
              " 'Lazzarus Powell - Checkmate - Fat Joe - This Is Me... Now - Ben Affleck - Batman v Superman: Dawn of Justice - Amy Adams - On the Road - Sam Riley - Sometimes Always Never - Alice Lowe - Sightseers - Kenneth Hadley',\n",
              " 'Lazzarus Powell - Checkmate - Fat Joe - This Is Me... Now - Ben Affleck - Triple Frontier - Garrett Hedlund - On the Road - Sam Riley - Sometimes Always Never - Alice Lowe - Sightseers - Kenneth Hadley',\n",
              " 'Lazzarus Powell - Checkmate - Fat Joe - This Is Me... Now - Ben Affleck - Runner Runner - Gemma Arterton - Byzantium - Sam Riley - Sometimes Always Never - Alice Lowe - Sightseers - Kenneth Hadley',\n",
              " 'Lazzarus Powell - Checkmate - Fat Joe - Thicker Than Water - Ice Cube - xXx: State of the Union - Scott Speedman - Underworld: Evolution - Bill Nighy - Sometimes Always Never - Alice Lowe - Sightseers - Kenneth Hadley',\n",
              " 'Lazzarus Powell - Checkmate - Fat Joe - This Is Me... Now - Ben Affleck - Pearl Harbor - Kate Beckinsale - Underworld: Evolution - Bill Nighy - Sometimes Always Never - Alice Lowe - Sightseers - Kenneth Hadley',\n",
              " 'Lazzarus Powell - Checkmate - Fat Joe - 179th Street - Vincent Pastore - Bully - Danny Trejo - Gracie and Pedro: Pets to the Rescue - Bill Nighy - Sometimes Always Never - Alice Lowe - Sightseers - Kenneth Hadley',\n",
              " 'Lazzarus Powell - Checkmate - Fat Joe - This Is Me... Now - Jennifer Lopez - Maid in Manhattan - Stanley Tucci - Jack the Giant Slayer - Bill Nighy - Sometimes Always Never - Alice Lowe - Sightseers - Kenneth Hadley',\n",
              " 'Lazzarus Powell - Checkmate - Fat Joe - This Is Me... Now - Jennifer Lopez - Shall We Dance - Stanley Tucci - Jack the Giant Slayer - Bill Nighy - Sometimes Always Never - Alice Lowe - Sightseers - Kenneth Hadley',\n",
              " 'Lazzarus Powell - Checkmate - Fat Joe - This Is Me... Now - Jane Fonda - California Suite - Maggie Smith - The Best Exotic Marigold Hotel - Bill Nighy - Sometimes Always Never - Alice Lowe - Sightseers - Kenneth Hadley',\n",
              " 'Lazzarus Powell - Checkmate - Fat Joe - This Is Me... Now - Jane Fonda - California Suite - Maggie Smith - The Second Best Exotic Marigold Hotel - Bill Nighy - Sometimes Always Never - Alice Lowe - Sightseers - Kenneth Hadley',\n",
              " 'Lazzarus Powell - Checkmate - Fat Joe - This Is Me... Now - Jane Fonda - Luck - Simon Pegg - Hot Fuzz - Bill Nighy - Sometimes Always Never - Alice Lowe - Sightseers - Kenneth Hadley',\n",
              " \"Lazzarus Powell - Checkmate - Fat Joe - This Is Me... Now - Ben Affleck - Surviving Christmas - Catherine O'Hara - The Wild Robot - Bill Nighy - Sometimes Always Never - Alice Lowe - Sightseers - Kenneth Hadley\",\n",
              " 'Lazzarus Powell - Checkmate - Fat Joe - This Is Me... Now - Ben Affleck - Paycheck - Aaron Eckhart - I, Frankenstein - Bill Nighy - Sometimes Always Never - Alice Lowe - Sightseers - Kenneth Hadley',\n",
              " 'Lazzarus Powell - Checkmate - Fat Joe - This Is Me... Now - Ben Affleck - State of Play - Rachel McAdams - About Time - Bill Nighy - Sometimes Always Never - Alice Lowe - Sightseers - Kenneth Hadley',\n",
              " 'Lazzarus Powell - Checkmate - Fat Joe - This Is Me... Now - Ben Affleck - To the Wonder - Rachel McAdams - About Time - Bill Nighy - Sometimes Always Never - Alice Lowe - Sightseers - Kenneth Hadley',\n",
              " 'Lazzarus Powell - Checkmate - Fat Joe - This Is Me... Now - Ben Affleck - Runner Runner - Gemma Arterton - Their Finest - Bill Nighy - Sometimes Always Never - Alice Lowe - Sightseers - Kenneth Hadley',\n",
              " 'Lazzarus Powell - Checkmate - Fat Joe - This Is Me... Now - Ben Affleck - Runner Runner - Gemma Arterton - StarDog and TurboCat - Bill Nighy - Sometimes Always Never - Alice Lowe - Sightseers - Kenneth Hadley',\n",
              " 'Lazzarus Powell - Checkmate - Fat Joe - This Is Me... Now - Jennifer Lopez - Blood and Wine - Michael Caine - The Eagle Has Landed - Jenny Agutter - Sometimes Always Never - Alice Lowe - Sightseers - Kenneth Hadley',\n",
              " 'Lazzarus Powell - Checkmate - Fat Joe - This Is Me... Now - Jane Fonda - Hurry Sundown - Michael Caine - The Eagle Has Landed - Jenny Agutter - Sometimes Always Never - Alice Lowe - Sightseers - Kenneth Hadley',\n",
              " 'Lazzarus Powell - Checkmate - Fat Joe - This Is Me... Now - Jane Fonda - California Suite - Michael Caine - The Eagle Has Landed - Jenny Agutter - Sometimes Always Never - Alice Lowe - Sightseers - Kenneth Hadley',\n",
              " 'Lazzarus Powell - Checkmate - Fat Joe - This Is Me... Now - Jane Fonda - Youth - Michael Caine - The Eagle Has Landed - Jenny Agutter - Sometimes Always Never - Alice Lowe - Sightseers - Kenneth Hadley',\n",
              " 'Lazzarus Powell - Checkmate - Fat Joe - This Is Me... Now - Jane Fonda - Klute - Donald Sutherland - The Eagle Has Landed - Jenny Agutter - Sometimes Always Never - Alice Lowe - Sightseers - Kenneth Hadley',\n",
              " 'Lazzarus Powell - Checkmate - Fat Joe - This Is Me... Now - Jane Fonda - Sunday in New York - Cliff Robertson - Dominique - Jenny Agutter - Sometimes Always Never - Alice Lowe - Sightseers - Kenneth Hadley',\n",
              " 'Lazzarus Powell - Checkmate - Fat Joe - 179th Street - Vincent Pastore - Joshua Tree - Michael Madsen - Concessions - Steven Ogg - Solis - Alice Lowe - Sightseers - Kenneth Hadley',\n",
              " 'Lazzarus Powell - Checkmate - Fat Joe - 179th Street - Vincent Pastore - Day of Redemption - Michael Madsen - Concessions - Steven Ogg - Solis - Alice Lowe - Sightseers - Kenneth Hadley',\n",
              " 'Lazzarus Powell - Checkmate - Fat Joe - This Is Me... Now - Ben Affleck - Daredevil - Colin Farrell - Voyagers - Fionn Whitehead - Black Mirror: Bandersnatch - Alice Lowe - Sightseers - Kenneth Hadley',\n",
              " 'Lazzarus Powell - Checkmate - Fat Joe - This Is Me... Now - Ben Affleck - The Tender Bar - Tye Sheridan - Voyagers - Fionn Whitehead - Black Mirror: Bandersnatch - Alice Lowe - Sightseers - Kenneth Hadley',\n",
              " 'Lazzarus Powell - Checkmate - Fat Joe - This Is Me... Now - Ben Affleck - Runner Runner - Gemma Arterton - 100 Streets - Tom Cullen - Black Mountain Poets - Alice Lowe - Sightseers - Kenneth Hadley']"
            ]
          },
          "execution_count": 18,
          "metadata": {},
          "output_type": "execute_result"
        }
      ],
      "source": [
        "# These are all the shortest paths between Lazzarus Powell and Kenneth Hadley\n",
        "paths('Lazzarus Powell', 'Kenneth Hadley')"
      ]
    },
    {
      "cell_type": "markdown",
      "metadata": {
        "id": "cd9dycSL4e72"
      },
      "source": [
        "# Let's explore the network"
      ]
    },
    {
      "cell_type": "code",
      "execution_count": null,
      "metadata": {
        "id": "fV6XfQJArROM"
      },
      "outputs": [],
      "source": [
        "paths('Shahab Hosseini', 'Angelina Jolie')"
      ]
    },
    {
      "cell_type": "code",
      "execution_count": null,
      "metadata": {
        "id": "xg9voR1rII3F"
      },
      "outputs": [],
      "source": [
        "paths('Onur Tuna', 'Angelina Jolie')"
      ]
    },
    {
      "cell_type": "code",
      "execution_count": null,
      "metadata": {
        "id": "qF5gG2op5RGf"
      },
      "outputs": [],
      "source": [
        "paths('Robin Williams', 'Jackie Chan')"
      ]
    },
    {
      "cell_type": "code",
      "execution_count": null,
      "metadata": {
        "id": "ZfXjcxfgHf5i"
      },
      "outputs": [],
      "source": [
        "paths('Rajinikanth', 'Jackie Chan')"
      ]
    },
    {
      "cell_type": "code",
      "execution_count": null,
      "metadata": {
        "id": "MZrkGvsG6DZH"
      },
      "outputs": [],
      "source": [
        "paths('Clint Eastwood', 'Toshirô Mifune')"
      ]
    },
    {
      "cell_type": "markdown",
      "metadata": {
        "id": "QJljMQV2kDiY"
      },
      "source": [
        "# Further explorations"
      ]
    },
    {
      "cell_type": "code",
      "execution_count": null,
      "metadata": {
        "id": "kLCOdvCGkC3P"
      },
      "outputs": [],
      "source": [
        "paths('Kevin Bacon', 'Sivakarthikeyan')"
      ]
    },
    {
      "cell_type": "code",
      "execution_count": null,
      "metadata": {
        "id": "v5R2wI8ZLWO0"
      },
      "outputs": [],
      "source": [
        "paths('Ashish Vidyarthi', 'N!xau')"
      ]
    },
    {
      "cell_type": "code",
      "execution_count": null,
      "metadata": {
        "id": "rSzTh_LTLuxV"
      },
      "outputs": [],
      "source": [
        "paths('Gandhimathi', 'N!xau')"
      ]
    },
    {
      "cell_type": "code",
      "execution_count": null,
      "metadata": {
        "id": "rqeZtOWQMNKz"
      },
      "outputs": [],
      "source": [
        "# Note: Asad Dadarkar acted in Dil Chatha Hai: https://www.imdb.com/title/tt0292490/\n",
        "# But his name is not in title.principals.tsv.gz, since it's a list of primary cast, not a complete list.\n",
        "# An extended list is available from https://contribute.imdb.com/dataset\n",
        "# But only to people with 1000+ contributions in the last 360 days: https://community-imdb.sprinklr.com/conversations/data-issues-policy-discussions/imdb-data-now-easily-available-to-contributors/5f4a7a0d8815453dba963bbc\n",
        "paths('Asad Dadarkar', 'N!xau')"
      ]
    },
    {
      "cell_type": "markdown",
      "metadata": {
        "id": "HJZ5onqjNG1A"
      },
      "source": [
        "# Stories\n",
        "\n",
        "- Who is the Kevin Bacon of Bollywood?\n",
        "- MGR never allowed Jayalalitha to act with others for a while until they broke up.\n",
        "- Senthil needed to pair up with Goundamani in the later years to get a chance\n",
        "- No one acts with Prashanth after his Malaysian visit. Or Vadivelu after his Vijayakanth visit.\n",
        "- Arjun was a top star in Tamil. Then he had a bad patch -- where he took refuge in Kannada. Then he moved back.\n",
        "- Vadivelu may have been a highlight connected actor earlier, but fell over time\n",
        "- What about the Venkat Prabhu cluster?\n",
        "\n",
        "\n",
        "Notes\n",
        "\n",
        "- Build a tool\n",
        "- Allow annotations & story forms for users to create their stories\n",
        "- Allow embedding -- of visual and of story"
      ]
    },
    {
      "cell_type": "code",
      "execution_count": null,
      "metadata": {
        "id": "c7YOwIqsMzaL"
      },
      "outputs": [],
      "source": []
    }
  ],
  "metadata": {
    "colab": {
      "provenance": []
    },
    "kernelspec": {
      "display_name": "Python 3",
      "name": "python3"
    },
    "language_info": {
      "codemirror_mode": {
        "name": "ipython",
        "version": 3
      },
      "file_extension": ".py",
      "mimetype": "text/x-python",
      "name": "python",
      "nbconvert_exporter": "python",
      "pygments_lexer": "ipython3",
      "version": "3.10.13"
    }
  },
  "nbformat": 4,
  "nbformat_minor": 0
}
