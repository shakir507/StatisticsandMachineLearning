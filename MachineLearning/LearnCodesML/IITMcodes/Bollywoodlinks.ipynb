{
 "cells": [
  {
   "cell_type": "code",
   "execution_count": 1,
   "metadata": {},
   "outputs": [],
   "source": [
    "# These gzip files have trailing garbage.\n",
    "# Python's gzip module does not read GZIP files with trailing garbage.\n",
    "# Let's create an equivalent of pandas.read_csv() that works around it.\n",
    "# See https://stackoverflow.com/a/54608126/100904\n",
    "import zlib\n",
    "import io\n",
    "import pandas as pd\n",
    "\n",
    "def read_csv(path, **kwargs):\n",
    "    with open(path, 'rb') as handle:\n",
    "        raw = handle.read()\n",
    "    stream = io.BytesIO(zlib.decompress(raw, zlib.MAX_WBITS|16))\n",
    "    return pd.read_csv(stream, **kwargs)"
   ]
  },
  {
   "cell_type": "code",
   "execution_count": null,
   "metadata": {},
   "outputs": [],
   "source": []
  },
  {
   "cell_type": "code",
   "execution_count": 3,
   "metadata": {},
   "outputs": [
    {
     "name": "stderr",
     "output_type": "stream",
     "text": [
      "/tmp/ipykernel_471660/4263236362.py:13: DtypeWarning: Columns (7) have mixed types. Specify dtype option on import or set low_memory=False.\n",
      "  return pd.read_csv(stream, **kwargs)\n"
     ]
    }
   ],
   "source": [
    "# Load the movies dataset\n",
    "movies = read_csv('title.basics.tsv.gz', sep='\\t', na_values='\\\\N', dtype={\n",
    "    'tconst': 'str',\n",
    "    'titleType': 'str',\n",
    "    'primaryTitle': 'str',\n",
    "    'startYear': 'Int64',\n",
    "    'genres': 'str'\n",
    "}).set_index('tconst')\n",
    "\n",
    "# Filter for Bollywood movies released from 2005 onwards\n",
    "bollywood_movies = movies[(movies['titleType'] == 'movie') & (movies['startYear'] >= 2005) & (movies['genres'].str.contains('Drama'))]\n"
   ]
  },
  {
   "cell_type": "code",
   "execution_count": null,
   "metadata": {},
   "outputs": [],
   "source": [
    "import networkx as nx\n",
    "\n",
    "G = nx.Graph()\n",
    "for movie, group in bollywood_cast.groupby('tconst'):\n",
    "    actors = group['nconst'].tolist()\n",
    "    for actor1 in actors:\n",
    "        for actor2 in actors:\n",
    "            if actor1 != actor2:\n",
    "                G.add_edge(actor1, actor2)\n"
   ]
  },
  {
   "cell_type": "code",
   "execution_count": 4,
   "metadata": {},
   "outputs": [
    {
     "ename": "",
     "evalue": "",
     "output_type": "error",
     "traceback": [
      "\u001b[1;31mThe Kernel crashed while executing code in the current cell or a previous cell. \n",
      "\u001b[1;31mPlease review the code in the cell(s) to identify a possible cause of the failure. \n",
      "\u001b[1;31mClick <a href='https://aka.ms/vscodeJupyterKernelCrash'>here</a> for more info. \n",
      "\u001b[1;31mView Jupyter <a href='command:jupyter.viewOutput'>log</a> for further details."
     ]
    }
   ],
   "source": [
    "\n",
    "# Load the cast dataset\n",
    "cast = read_csv('title.principals.tsv.gz', sep='\\t', na_values='\\\\N', dtype={\n",
    "    'tconst': 'str',\n",
    "    'nconst': 'str',\n",
    "    'category': 'str'\n",
    "})\n",
    "\n",
    "# Filter for actors in the selected Bollywood movies\n",
    "bollywood_cast = cast[(cast['category'].isin(['actor', 'actress'])) & (cast['tconst'].isin(bollywood_movies.index))]\n"
   ]
  },
  {
   "cell_type": "code",
   "execution_count": 2,
   "metadata": {},
   "outputs": [],
   "source": [
    "movies = read_csv('title.basics.tsv.gz', sep='\\t', na_values='\\\\N', usecols=['tconst', 'titleType', 'primaryTitle', 'startYear', 'genres'])\n",
    "cast = read_csv('title.principals.tsv.gz', sep='\\t', na_values='\\\\N', usecols=['tconst', 'nconst', 'category'])\n"
   ]
  },
  {
   "cell_type": "code",
   "execution_count": 7,
   "metadata": {},
   "outputs": [],
   "source": [
    "movies_new = read_csv('title.basics.tsv.gz', sep='\\t', na_values='\\\\N', usecols=['tconst', 'titleType', 'primaryTitle', 'startYear', 'genres'], iterator=True, chunksize=10000)\n",
    "movies_new = pd.concat([chunk[(chunk['titleType'] == 'movie') & (chunk['startYear'] >= 2005) & (chunk['genres'].str.contains('Drama'))] for chunk in movies_new])\n"
   ]
  },
  {
   "cell_type": "code",
   "execution_count": 11,
   "metadata": {},
   "outputs": [],
   "source": [
    "bollywood_cast = cast[(cast['category'].isin(['actor', 'actress'])) & (cast['tconst'].isin(bollywood_movies.index))]\n"
   ]
  },
  {
   "cell_type": "code",
   "execution_count": 9,
   "metadata": {},
   "outputs": [],
   "source": [
    "bollywood_movies = movies[(movies['titleType'] == 'movie') & (movies['startYear'] >= 2005) & (movies['genres'].str.contains('Drama'))]\n"
   ]
  },
  {
   "cell_type": "code",
   "execution_count": 12,
   "metadata": {},
   "outputs": [],
   "source": [
    "import networkx as nx\n",
    "\n",
    "G = nx.Graph()\n",
    "for movie, group in bollywood_cast.groupby('tconst'):\n",
    "    actors = group['nconst'].tolist()\n",
    "    for actor1 in actors:\n",
    "        for actor2 in actors:\n",
    "            if actor1 != actor2:\n",
    "                G.add_edge(actor1, actor2)\n"
   ]
  },
  {
   "cell_type": "code",
   "execution_count": 13,
   "metadata": {},
   "outputs": [],
   "source": [
    "with open('bollywood_network.csv', 'w') as f:\n",
    "    f.write('Source,Target\\n')\n",
    "    for edge in G.edges():\n",
    "        f.write(f'{edge[0]},{edge[1]}\\n')"
   ]
  },
  {
   "cell_type": "code",
   "execution_count": null,
   "metadata": {},
   "outputs": [],
   "source": []
  }
 ],
 "metadata": {
  "kernelspec": {
   "display_name": ".venv",
   "language": "python",
   "name": "python3"
  },
  "language_info": {
   "codemirror_mode": {
    "name": "ipython",
    "version": 3
   },
   "file_extension": ".py",
   "mimetype": "text/x-python",
   "name": "python",
   "nbconvert_exporter": "python",
   "pygments_lexer": "ipython3",
   "version": "3.10.13"
  }
 },
 "nbformat": 4,
 "nbformat_minor": 2
}
