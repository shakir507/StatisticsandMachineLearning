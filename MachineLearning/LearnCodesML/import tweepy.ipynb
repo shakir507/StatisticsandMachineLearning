import tweepy
import pandas as pd
import numpy as np
import os
import matplotlib.pyplot as plt

# # Define your search query
path="../../Data/twitterdata/"
twitterData=pd.read_csv(os.path.join(path,"Mental-Health-Twitter.csv"))
cols=twitterData.columns.to_list()
print(cols)

cols.pop(0)

twitterData=twitterData[cols]
print(twitterData.head())
