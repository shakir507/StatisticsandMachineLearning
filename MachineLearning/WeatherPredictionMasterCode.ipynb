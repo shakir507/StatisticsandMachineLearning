{
 "cells": [
  {
   "cell_type": "markdown",
   "metadata": {},
   "source": [
    "### Instructor: Dr. Shakir Bilal    ### Exercise: Weather prediction\n",
    "\n",
    "# This Code answers the following\n",
    "            \n",
    "            \n",
    "    Q1.  Consider the New Delhi weather data \"New_DelhiData.csv\" we have been exploring.\n",
    "    (a) Calculate mean, and standard deviation for monthly scale. Using the standard deviation you cacluated in the previous step, calcuate 95% confidence intervals around the respective means. Plot the means along with the 95% Confidence intervals.\n",
    "\n",
    "    (b)Write your observations about the temperature variations using monthly average and 95% confidence intervals. Does the temperature oscilate, stay constant, or follows a random irregular trend? Do you observe seasonal variations?\n",
    "    \n",
    "    Q2. Create a linear regression model to predict monthly temperatures using appropriate predictors in the data (e.g. humidity, dewpoint). Comment on your observations. Can you use your linear regression model for predicting temperature into the future? If so plot temperature predictions agains time.\n",
    "    \n",
    "    Also consider questions at the end of the code"
   ]
  },
  {
   "cell_type": "code",
   "execution_count": 3,
   "metadata": {},
   "outputs": [],
   "source": [
    "import numpy as np\n",
    "import pandas as pd\n",
    "import math as mt\n",
    "import statsmodels.api as sm\n",
    "import sklearn as skl\n",
    "import seaborn as sns\n",
    "import matplotlib.pyplot as plt \n",
    "from datetime import date"
   ]
  },
  {
   "cell_type": "markdown",
   "metadata": {},
   "source": [
    "### Load the data"
   ]
  },
  {
   "cell_type": "code",
   "execution_count": 4,
   "metadata": {},
   "outputs": [],
   "source": [
    "dataND=pd.read_csv('New_DelhiData.csv',parse_dates=['datetime_utc'])"
   ]
  },
  {
   "cell_type": "code",
   "execution_count": 5,
   "metadata": {},
   "outputs": [
    {
     "data": {
      "text/html": [
       "<div>\n",
       "<style scoped>\n",
       "    .dataframe tbody tr th:only-of-type {\n",
       "        vertical-align: middle;\n",
       "    }\n",
       "\n",
       "    .dataframe tbody tr th {\n",
       "        vertical-align: top;\n",
       "    }\n",
       "\n",
       "    .dataframe thead th {\n",
       "        text-align: right;\n",
       "    }\n",
       "</style>\n",
       "<table border=\"1\" class=\"dataframe\">\n",
       "  <thead>\n",
       "    <tr style=\"text-align: right;\">\n",
       "      <th></th>\n",
       "      <th>datetime_utc</th>\n",
       "      <th>_conds</th>\n",
       "      <th>_dewptm</th>\n",
       "      <th>_fog</th>\n",
       "      <th>_hail</th>\n",
       "      <th>_heatindexm</th>\n",
       "      <th>_hum</th>\n",
       "      <th>_precipm</th>\n",
       "      <th>_pressurem</th>\n",
       "      <th>_rain</th>\n",
       "      <th>_snow</th>\n",
       "      <th>_tempm</th>\n",
       "      <th>_thunder</th>\n",
       "      <th>_tornado</th>\n",
       "      <th>_vism</th>\n",
       "      <th>_wdird</th>\n",
       "      <th>_wdire</th>\n",
       "      <th>_wgustm</th>\n",
       "      <th>_windchillm</th>\n",
       "      <th>_wspdm</th>\n",
       "    </tr>\n",
       "  </thead>\n",
       "  <tbody>\n",
       "    <tr>\n",
       "      <th>0</th>\n",
       "      <td>1996-11-01 11:00:00</td>\n",
       "      <td>Smoke</td>\n",
       "      <td>9.0</td>\n",
       "      <td>0</td>\n",
       "      <td>0</td>\n",
       "      <td>NaN</td>\n",
       "      <td>27.0</td>\n",
       "      <td>NaN</td>\n",
       "      <td>1010.0</td>\n",
       "      <td>0</td>\n",
       "      <td>0</td>\n",
       "      <td>30.0</td>\n",
       "      <td>0</td>\n",
       "      <td>0</td>\n",
       "      <td>5.0</td>\n",
       "      <td>280.0</td>\n",
       "      <td>West</td>\n",
       "      <td>NaN</td>\n",
       "      <td>NaN</td>\n",
       "      <td>7.4</td>\n",
       "    </tr>\n",
       "    <tr>\n",
       "      <th>1</th>\n",
       "      <td>1996-11-01 12:00:00</td>\n",
       "      <td>Smoke</td>\n",
       "      <td>10.0</td>\n",
       "      <td>0</td>\n",
       "      <td>0</td>\n",
       "      <td>NaN</td>\n",
       "      <td>32.0</td>\n",
       "      <td>NaN</td>\n",
       "      <td>-9999.0</td>\n",
       "      <td>0</td>\n",
       "      <td>0</td>\n",
       "      <td>28.0</td>\n",
       "      <td>0</td>\n",
       "      <td>0</td>\n",
       "      <td>NaN</td>\n",
       "      <td>0.0</td>\n",
       "      <td>North</td>\n",
       "      <td>NaN</td>\n",
       "      <td>NaN</td>\n",
       "      <td>NaN</td>\n",
       "    </tr>\n",
       "    <tr>\n",
       "      <th>2</th>\n",
       "      <td>1996-11-01 13:00:00</td>\n",
       "      <td>Smoke</td>\n",
       "      <td>11.0</td>\n",
       "      <td>0</td>\n",
       "      <td>0</td>\n",
       "      <td>NaN</td>\n",
       "      <td>44.0</td>\n",
       "      <td>NaN</td>\n",
       "      <td>-9999.0</td>\n",
       "      <td>0</td>\n",
       "      <td>0</td>\n",
       "      <td>24.0</td>\n",
       "      <td>0</td>\n",
       "      <td>0</td>\n",
       "      <td>NaN</td>\n",
       "      <td>0.0</td>\n",
       "      <td>North</td>\n",
       "      <td>NaN</td>\n",
       "      <td>NaN</td>\n",
       "      <td>NaN</td>\n",
       "    </tr>\n",
       "    <tr>\n",
       "      <th>3</th>\n",
       "      <td>1996-11-01 14:00:00</td>\n",
       "      <td>Smoke</td>\n",
       "      <td>10.0</td>\n",
       "      <td>0</td>\n",
       "      <td>0</td>\n",
       "      <td>NaN</td>\n",
       "      <td>41.0</td>\n",
       "      <td>NaN</td>\n",
       "      <td>1010.0</td>\n",
       "      <td>0</td>\n",
       "      <td>0</td>\n",
       "      <td>24.0</td>\n",
       "      <td>0</td>\n",
       "      <td>0</td>\n",
       "      <td>2.0</td>\n",
       "      <td>0.0</td>\n",
       "      <td>North</td>\n",
       "      <td>NaN</td>\n",
       "      <td>NaN</td>\n",
       "      <td>NaN</td>\n",
       "    </tr>\n",
       "    <tr>\n",
       "      <th>4</th>\n",
       "      <td>1996-11-01 16:00:00</td>\n",
       "      <td>Smoke</td>\n",
       "      <td>11.0</td>\n",
       "      <td>0</td>\n",
       "      <td>0</td>\n",
       "      <td>NaN</td>\n",
       "      <td>47.0</td>\n",
       "      <td>NaN</td>\n",
       "      <td>1011.0</td>\n",
       "      <td>0</td>\n",
       "      <td>0</td>\n",
       "      <td>23.0</td>\n",
       "      <td>0</td>\n",
       "      <td>0</td>\n",
       "      <td>1.2</td>\n",
       "      <td>0.0</td>\n",
       "      <td>North</td>\n",
       "      <td>NaN</td>\n",
       "      <td>NaN</td>\n",
       "      <td>0.0</td>\n",
       "    </tr>\n",
       "  </tbody>\n",
       "</table>\n",
       "</div>"
      ],
      "text/plain": [
       "         datetime_utc  _conds   _dewptm   _fog   _hail   _heatindexm   _hum  \\\n",
       "0 1996-11-01 11:00:00   Smoke       9.0      0       0           NaN   27.0   \n",
       "1 1996-11-01 12:00:00   Smoke      10.0      0       0           NaN   32.0   \n",
       "2 1996-11-01 13:00:00   Smoke      11.0      0       0           NaN   44.0   \n",
       "3 1996-11-01 14:00:00   Smoke      10.0      0       0           NaN   41.0   \n",
       "4 1996-11-01 16:00:00   Smoke      11.0      0       0           NaN   47.0   \n",
       "\n",
       "    _precipm   _pressurem   _rain   _snow   _tempm   _thunder   _tornado  \\\n",
       "0        NaN       1010.0       0       0     30.0          0          0   \n",
       "1        NaN      -9999.0       0       0     28.0          0          0   \n",
       "2        NaN      -9999.0       0       0     24.0          0          0   \n",
       "3        NaN       1010.0       0       0     24.0          0          0   \n",
       "4        NaN       1011.0       0       0     23.0          0          0   \n",
       "\n",
       "    _vism   _wdird  _wdire   _wgustm   _windchillm   _wspdm  \n",
       "0     5.0    280.0    West       NaN           NaN      7.4  \n",
       "1     NaN      0.0   North       NaN           NaN      NaN  \n",
       "2     NaN      0.0   North       NaN           NaN      NaN  \n",
       "3     2.0      0.0   North       NaN           NaN      NaN  \n",
       "4     1.2      0.0   North       NaN           NaN      0.0  "
      ]
     },
     "execution_count": 5,
     "metadata": {},
     "output_type": "execute_result"
    }
   ],
   "source": [
    "dataND.head()"
   ]
  },
  {
   "cell_type": "code",
   "execution_count": 7,
   "metadata": {},
   "outputs": [
    {
     "data": {
      "text/html": [
       "<div>\n",
       "<style scoped>\n",
       "    .dataframe tbody tr th:only-of-type {\n",
       "        vertical-align: middle;\n",
       "    }\n",
       "\n",
       "    .dataframe tbody tr th {\n",
       "        vertical-align: top;\n",
       "    }\n",
       "\n",
       "    .dataframe thead th {\n",
       "        text-align: right;\n",
       "    }\n",
       "</style>\n",
       "<table border=\"1\" class=\"dataframe\">\n",
       "  <thead>\n",
       "    <tr style=\"text-align: right;\">\n",
       "      <th></th>\n",
       "      <th>datetime_utc</th>\n",
       "      <th>_conds</th>\n",
       "      <th>_dewptm</th>\n",
       "      <th>_fog</th>\n",
       "      <th>_hail</th>\n",
       "      <th>_heatindexm</th>\n",
       "      <th>_hum</th>\n",
       "      <th>_precipm</th>\n",
       "      <th>_pressurem</th>\n",
       "      <th>_rain</th>\n",
       "      <th>_snow</th>\n",
       "      <th>_tempm</th>\n",
       "      <th>_thunder</th>\n",
       "      <th>_tornado</th>\n",
       "      <th>_vism</th>\n",
       "      <th>_wdird</th>\n",
       "      <th>_wdire</th>\n",
       "      <th>_wgustm</th>\n",
       "      <th>_windchillm</th>\n",
       "      <th>_wspdm</th>\n",
       "    </tr>\n",
       "  </thead>\n",
       "  <tbody>\n",
       "    <tr>\n",
       "      <th>100985</th>\n",
       "      <td>2017-04-24 06:00:00</td>\n",
       "      <td>Haze</td>\n",
       "      <td>17.0</td>\n",
       "      <td>0</td>\n",
       "      <td>0</td>\n",
       "      <td>NaN</td>\n",
       "      <td>25.0</td>\n",
       "      <td>NaN</td>\n",
       "      <td>1005.0</td>\n",
       "      <td>0</td>\n",
       "      <td>0</td>\n",
       "      <td>34.0</td>\n",
       "      <td>0</td>\n",
       "      <td>0</td>\n",
       "      <td>4.0</td>\n",
       "      <td>320.0</td>\n",
       "      <td>NW</td>\n",
       "      <td>NaN</td>\n",
       "      <td>NaN</td>\n",
       "      <td>11.1</td>\n",
       "    </tr>\n",
       "    <tr>\n",
       "      <th>100986</th>\n",
       "      <td>2017-04-24 09:00:00</td>\n",
       "      <td>Haze</td>\n",
       "      <td>14.0</td>\n",
       "      <td>0</td>\n",
       "      <td>0</td>\n",
       "      <td>NaN</td>\n",
       "      <td>16.0</td>\n",
       "      <td>NaN</td>\n",
       "      <td>1003.0</td>\n",
       "      <td>0</td>\n",
       "      <td>0</td>\n",
       "      <td>38.0</td>\n",
       "      <td>0</td>\n",
       "      <td>0</td>\n",
       "      <td>4.0</td>\n",
       "      <td>320.0</td>\n",
       "      <td>NW</td>\n",
       "      <td>NaN</td>\n",
       "      <td>NaN</td>\n",
       "      <td>22.2</td>\n",
       "    </tr>\n",
       "    <tr>\n",
       "      <th>100987</th>\n",
       "      <td>2017-04-24 12:00:00</td>\n",
       "      <td>Haze</td>\n",
       "      <td>12.0</td>\n",
       "      <td>0</td>\n",
       "      <td>0</td>\n",
       "      <td>NaN</td>\n",
       "      <td>14.0</td>\n",
       "      <td>NaN</td>\n",
       "      <td>1002.0</td>\n",
       "      <td>0</td>\n",
       "      <td>0</td>\n",
       "      <td>36.0</td>\n",
       "      <td>0</td>\n",
       "      <td>0</td>\n",
       "      <td>4.0</td>\n",
       "      <td>270.0</td>\n",
       "      <td>West</td>\n",
       "      <td>NaN</td>\n",
       "      <td>NaN</td>\n",
       "      <td>18.5</td>\n",
       "    </tr>\n",
       "    <tr>\n",
       "      <th>100988</th>\n",
       "      <td>2017-04-24 15:00:00</td>\n",
       "      <td>Haze</td>\n",
       "      <td>15.0</td>\n",
       "      <td>0</td>\n",
       "      <td>0</td>\n",
       "      <td>NaN</td>\n",
       "      <td>27.0</td>\n",
       "      <td>NaN</td>\n",
       "      <td>1004.0</td>\n",
       "      <td>0</td>\n",
       "      <td>0</td>\n",
       "      <td>32.0</td>\n",
       "      <td>0</td>\n",
       "      <td>0</td>\n",
       "      <td>2.0</td>\n",
       "      <td>320.0</td>\n",
       "      <td>NW</td>\n",
       "      <td>NaN</td>\n",
       "      <td>NaN</td>\n",
       "      <td>3.7</td>\n",
       "    </tr>\n",
       "    <tr>\n",
       "      <th>100989</th>\n",
       "      <td>2017-04-24 18:00:00</td>\n",
       "      <td>Haze</td>\n",
       "      <td>15.0</td>\n",
       "      <td>0</td>\n",
       "      <td>0</td>\n",
       "      <td>NaN</td>\n",
       "      <td>30.0</td>\n",
       "      <td>NaN</td>\n",
       "      <td>1005.0</td>\n",
       "      <td>0</td>\n",
       "      <td>0</td>\n",
       "      <td>30.0</td>\n",
       "      <td>0</td>\n",
       "      <td>0</td>\n",
       "      <td>2.0</td>\n",
       "      <td>320.0</td>\n",
       "      <td>NW</td>\n",
       "      <td>NaN</td>\n",
       "      <td>NaN</td>\n",
       "      <td>3.7</td>\n",
       "    </tr>\n",
       "  </tbody>\n",
       "</table>\n",
       "</div>"
      ],
      "text/plain": [
       "              datetime_utc  _conds   _dewptm   _fog   _hail   _heatindexm  \\\n",
       "100985 2017-04-24 06:00:00    Haze      17.0      0       0           NaN   \n",
       "100986 2017-04-24 09:00:00    Haze      14.0      0       0           NaN   \n",
       "100987 2017-04-24 12:00:00    Haze      12.0      0       0           NaN   \n",
       "100988 2017-04-24 15:00:00    Haze      15.0      0       0           NaN   \n",
       "100989 2017-04-24 18:00:00    Haze      15.0      0       0           NaN   \n",
       "\n",
       "         _hum   _precipm   _pressurem   _rain   _snow   _tempm   _thunder  \\\n",
       "100985   25.0        NaN       1005.0       0       0     34.0          0   \n",
       "100986   16.0        NaN       1003.0       0       0     38.0          0   \n",
       "100987   14.0        NaN       1002.0       0       0     36.0          0   \n",
       "100988   27.0        NaN       1004.0       0       0     32.0          0   \n",
       "100989   30.0        NaN       1005.0       0       0     30.0          0   \n",
       "\n",
       "         _tornado   _vism   _wdird  _wdire   _wgustm   _windchillm   _wspdm  \n",
       "100985          0     4.0    320.0      NW       NaN           NaN     11.1  \n",
       "100986          0     4.0    320.0      NW       NaN           NaN     22.2  \n",
       "100987          0     4.0    270.0    West       NaN           NaN     18.5  \n",
       "100988          0     2.0    320.0      NW       NaN           NaN      3.7  \n",
       "100989          0     2.0    320.0      NW       NaN           NaN      3.7  "
      ]
     },
     "execution_count": 7,
     "metadata": {},
     "output_type": "execute_result"
    }
   ],
   "source": [
    "dataND.tail()"
   ]
  },
  {
   "cell_type": "code",
   "execution_count": 17,
   "metadata": {},
   "outputs": [
    {
     "data": {
      "text/plain": [
       "Index(['datetime_utc', ' _conds', ' _dewptm', ' _fog', ' _hail',\n",
       "       ' _heatindexm', ' _hum', ' _precipm', ' _pressurem', ' _rain', ' _snow',\n",
       "       ' _tempm', ' _thunder', ' _tornado', ' _vism', ' _wdird', ' _wdire',\n",
       "       ' _wgustm', ' _windchillm', ' _wspdm'],\n",
       "      dtype='object')"
      ]
     },
     "execution_count": 17,
     "metadata": {},
     "output_type": "execute_result"
    }
   ],
   "source": [
    "dataND.columns"
   ]
  },
  {
   "cell_type": "markdown",
   "metadata": {},
   "source": [
    "#### Checking fo rmissing values in the data"
   ]
  },
  {
   "cell_type": "code",
   "execution_count": 5,
   "metadata": {},
   "outputs": [
    {
     "data": {
      "text/plain": [
       "datetime_utc         0\n",
       " _conds             72\n",
       " _dewptm           621\n",
       " _fog                0\n",
       " _hail               0\n",
       " _heatindexm     71835\n",
       " _hum              757\n",
       " _precipm       100990\n",
       " _pressurem        232\n",
       " _rain               0\n",
       " _snow               0\n",
       " _tempm            673\n",
       " _thunder            0\n",
       " _tornado            0\n",
       " _vism            4428\n",
       " _wdird          14755\n",
       " _wdire          14755\n",
       " _wgustm         99918\n",
       " _windchillm    100411\n",
       " _wspdm           2358\n",
       "dtype: int64"
      ]
     },
     "execution_count": 5,
     "metadata": {},
     "output_type": "execute_result"
    }
   ],
   "source": [
    "dataND.isna().sum()"
   ]
  },
  {
   "cell_type": "markdown",
   "metadata": {},
   "source": [
    "### Plotting the original time series"
   ]
  },
  {
   "cell_type": "code",
   "execution_count": 18,
   "metadata": {},
   "outputs": [
    {
     "data": {
      "text/plain": [
       "[<matplotlib.lines.Line2D at 0x7fd7cc77e220>]"
      ]
     },
     "execution_count": 18,
     "metadata": {},
     "output_type": "execute_result"
    },
    {
     "data": {
      "image/png": "[encoded data removed]",
      "text/plain": [
       "<Figure size 1152x504 with 1 Axes>"
      ]
     },
     "metadata": {
      "needs_background": "light"
     },
     "output_type": "display_data"
    }
   ],
   "source": [
    "fig, ax = plt.subplots(figsize = (16,7))\n",
    "ax.plot(dataND['datetime_utc'],dataND[' _tempm'])"
   ]
  },
  {
   "cell_type": "code",
   "execution_count": 19,
   "metadata": {},
   "outputs": [
    {
     "data": {
      "text/plain": [
       "1996"
      ]
     },
     "execution_count": 19,
     "metadata": {},
     "output_type": "execute_result"
    }
   ],
   "source": [
    "dataND.datetime_utc[1].year"
   ]
  },
  {
   "cell_type": "code",
   "execution_count": 20,
   "metadata": {},
   "outputs": [
    {
     "data": {
      "text/plain": [
       "1"
      ]
     },
     "execution_count": 20,
     "metadata": {},
     "output_type": "execute_result"
    }
   ],
   "source": [
    "dataND.datetime_utc[1].day"
   ]
  },
  {
   "cell_type": "markdown",
   "metadata": {},
   "source": [
    "### Seperating the date into days, months, and years. \n",
    "#### It wil be usefull to perform analysis at these three different time scales"
   ]
  },
  {
   "cell_type": "code",
   "execution_count": 7,
   "metadata": {},
   "outputs": [],
   "source": [
    "dataND['year']=[d.year for d in dataND.datetime_utc]\n",
    "dataND['month']=[d.strftime('%b') for d in dataND.datetime_utc]\n",
    "dataND['day']=[d.strftime('%d') for d in dataND.datetime_utc]"
   ]
  },
  {
   "cell_type": "code",
   "execution_count": 16,
   "metadata": {},
   "outputs": [
    {
     "data": {
      "text/plain": [
       "0         1996\n",
       "1         1996\n",
       "2         1996\n",
       "3         1996\n",
       "4         1996\n",
       "          ... \n",
       "100985    2017\n",
       "100986    2017\n",
       "100987    2017\n",
       "100988    2017\n",
       "100989    2017\n",
       "Name: year, Length: 100990, dtype: int64"
      ]
     },
     "execution_count": 16,
     "metadata": {},
     "output_type": "execute_result"
    }
   ],
   "source": [
    "dataND['year']"
   ]
  },
  {
   "cell_type": "markdown",
   "metadata": {},
   "source": [
    "#### Looking at what data looks like for one year: the year 2001"
   ]
  },
  {
   "cell_type": "code",
   "execution_count": 11,
   "metadata": {},
   "outputs": [],
   "source": [
    "yrspan1=[2001]"
   ]
  },
  {
   "cell_type": "code",
   "execution_count": 8,
   "metadata": {},
   "outputs": [],
   "source": [
    "yr2014=[2014]"
   ]
  },
  {
   "cell_type": "code",
   "execution_count": 12,
   "metadata": {},
   "outputs": [],
   "source": [
    "datalim1=dataND.loc[dataND.year.isin(yrspan1),:]"
   ]
  },
  {
   "cell_type": "code",
   "execution_count": 13,
   "metadata": {},
   "outputs": [],
   "source": [
    "datalim2k14=dataND.loc[dataND.year.isin(yr2014),:]"
   ]
  },
  {
   "cell_type": "code",
   "execution_count": 14,
   "metadata": {},
   "outputs": [
    {
     "data": {
      "text/plain": [
       "[<matplotlib.lines.Line2D at 0x7fb21a1fdf70>]"
      ]
     },
     "execution_count": 14,
     "metadata": {},
     "output_type": "execute_result"
    },
    {
     "data": {
      "image/png": "[encoded data removed]",
      "text/plain": [
       "<Figure size 576x504 with 1 Axes>"
      ]
     },
     "metadata": {
      "needs_background": "light"
     },
     "output_type": "display_data"
    }
   ],
   "source": [
    "fig, ax = plt.subplots(figsize = (8,7))\n",
    "ax.plot(datalim1['datetime_utc'],datalim1[' _tempm'])"
   ]
  },
  {
   "cell_type": "code",
   "execution_count": 16,
   "metadata": {},
   "outputs": [
    {
     "data": {
      "text/plain": [
       "[<matplotlib.lines.Line2D at 0x7fb2101475e0>]"
      ]
     },
     "execution_count": 16,
     "metadata": {},
     "output_type": "execute_result"
    },
    {
     "data": {
      "image/png": "[encoded data removed]",
      "text/plain": [
       "<Figure size 576x504 with 1 Axes>"
      ]
     },
     "metadata": {
      "needs_background": "light"
     },
     "output_type": "display_data"
    }
   ],
   "source": [
    "fig, ax = plt.subplots(figsize = (8,7))\n",
    "ax.plot(datalim2k14['datetime_utc'],datalim2k14[' _rain'])"
   ]
  },
  {
   "cell_type": "markdown",
   "metadata": {},
   "source": [
    "#### Diving further and looking what the data looks like in a month: Here chosen month is April"
   ]
  },
  {
   "cell_type": "code",
   "execution_count": 18,
   "metadata": {},
   "outputs": [],
   "source": [
    "mnlim1=['Apr']"
   ]
  },
  {
   "cell_type": "code",
   "execution_count": 19,
   "metadata": {},
   "outputs": [],
   "source": [
    "mnlimJan=['Jan']"
   ]
  },
  {
   "cell_type": "code",
   "execution_count": 20,
   "metadata": {},
   "outputs": [],
   "source": [
    "datalim2=datalim1.loc[datalim1.month.isin(mnlim1),:]"
   ]
  },
  {
   "cell_type": "code",
   "execution_count": 29,
   "metadata": {},
   "outputs": [],
   "source": [
    "datalimJan=datalim2k14.loc[datalim2k14.month.isin(mnlimJan),:]"
   ]
  },
  {
   "cell_type": "code",
   "execution_count": 22,
   "metadata": {},
   "outputs": [
    {
     "data": {
      "text/plain": [
       "30"
      ]
     },
     "execution_count": 22,
     "metadata": {},
     "output_type": "execute_result"
    }
   ],
   "source": [
    "len(datalim2.day.unique())"
   ]
  },
  {
   "cell_type": "code",
   "execution_count": 30,
   "metadata": {},
   "outputs": [
    {
     "data": {
      "text/plain": [
       "31"
      ]
     },
     "execution_count": 30,
     "metadata": {},
     "output_type": "execute_result"
    }
   ],
   "source": [
    "len(datalimJan.day.unique())"
   ]
  },
  {
   "cell_type": "code",
   "execution_count": 31,
   "metadata": {},
   "outputs": [
    {
     "data": {
      "text/plain": [
       "[<matplotlib.lines.Line2D at 0x7fb20ff729d0>]"
      ]
     },
     "execution_count": 31,
     "metadata": {},
     "output_type": "execute_result"
    },
    {
     "data": {
      "image/png": "[encoded data removed]",
      "text/plain": [
       "<Figure size 576x504 with 1 Axes>"
      ]
     },
     "metadata": {
      "needs_background": "light"
     },
     "output_type": "display_data"
    }
   ],
   "source": [
    "fig, ax = plt.subplots(figsize = (8,7))\n",
    "ax.plot(datalim2['datetime_utc'],datalim2[' _tempm'])"
   ]
  },
  {
   "cell_type": "code",
   "execution_count": 32,
   "metadata": {},
   "outputs": [
    {
     "data": {
      "text/plain": [
       "[<matplotlib.lines.Line2D at 0x7fb20ff496d0>]"
      ]
     },
     "execution_count": 32,
     "metadata": {},
     "output_type": "execute_result"
    },
    {
     "data": {
      "image/png": "[encoded data removed]",
      "text/plain": [
       "<Figure size 576x504 with 1 Axes>"
      ]
     },
     "metadata": {
      "needs_background": "light"
     },
     "output_type": "display_data"
    }
   ],
   "source": [
    "fig, ax = plt.subplots(figsize = (8,7))\n",
    "ax.plot(datalimJan['datetime_utc'],datalimJan[' _rain'])"
   ]
  },
  {
   "cell_type": "code",
   "execution_count": 71,
   "metadata": {},
   "outputs": [
    {
     "data": {
      "text/plain": [
       "Index(['datetime_utc', ' _conds', ' _dewptm', ' _fog', ' _hail',\n",
       "       ' _heatindexm', ' _hum', ' _precipm', ' _pressurem', ' _rain', ' _snow',\n",
       "       ' _tempm', ' _thunder', ' _tornado', ' _vism', ' _wdird', ' _wdire',\n",
       "       ' _wgustm', ' _windchillm', ' _wspdm', 'year', 'month', 'day'],\n",
       "      dtype='object')"
      ]
     },
     "execution_count": 71,
     "metadata": {},
     "output_type": "execute_result"
    }
   ],
   "source": [
    "dataND.columns"
   ]
  },
  {
   "cell_type": "markdown",
   "metadata": {},
   "source": [
    "#### Creating a function to calculate monthly average, standard deviation for temperature, dewpoint, humidity"
   ]
  },
  {
   "cell_type": "code",
   "execution_count": 31,
   "metadata": {},
   "outputs": [],
   "source": [
    "#This subroutine cacluates average of monthly data and it's standard deviation\n",
    "def monthlyavg(dataND):\n",
    "    avg=[]\n",
    "    sdev=[]\n",
    "    avgdew=[]\n",
    "    sdevdew=[]\n",
    "    avghum=[]\n",
    "    sdevhum=[]\n",
    "    for yr in dataND.year.unique():\n",
    "        datayr=dataND.loc[dataND.year.isin([yr]),:]\n",
    "        for mnth in datayr.month.unique():\n",
    "            datamnth=datayr.loc[datayr.month.isin([mnth]),:]\n",
    "            avg.append(np.mean(datamnth[' _tempm']))\n",
    "            sdev.append(np.std(datamnth[' _tempm']))\n",
    "            avgdew.append(np.mean(datamnth[' _dewptm']))\n",
    "            sdevdew.append(np.std(datamnth[' _dewptm']))\n",
    "            avghum.append(np.mean(datamnth[' _hum']))\n",
    "            sdevhum.append(np.std(datamnth[' _hum']))\n",
    "    return avg,sdev,avgdew,sdevdew,avghum,sdevhum\n",
    "        "
   ]
  },
  {
   "cell_type": "markdown",
   "metadata": {},
   "source": [
    "#### Picking up data for two years 2001 to 2002 \n",
    "#### and caclulating monthly average, standard deviation for tempreature, dewpoint, humidity valriables."
   ]
  },
  {
   "cell_type": "code",
   "execution_count": 34,
   "metadata": {},
   "outputs": [],
   "source": [
    "data2k1=dataND.loc[dataND.year.isin([2001,2002]),:]\n"
   ]
  },
  {
   "cell_type": "code",
   "execution_count": 35,
   "metadata": {},
   "outputs": [],
   "source": [
    "mnthavg,mnthstdev,_,_,_,_=monthlyavg(data2k1)"
   ]
  },
  {
   "cell_type": "code",
   "execution_count": 36,
   "metadata": {},
   "outputs": [],
   "source": [
    "YEAR = [2001, 2001, 2001, 2001, 2001, 2001, 2001, 2001, 2001, 2001, 2001, 2001,2002, 2002, 2002, 2002, 2002, 2002,2002, 2002, 2002, 2002, 2002, 2002]\n",
    "#MONTH = [1, 2, 3, 4, 5, 6,7,8,9,10,11,12,13,14,15,16,17,18,19,20,21,22,23,24]\n",
    "MONTH = [1, 2, 3, 4, 5, 6,7,8,9,10,11,12,1, 2, 3, 4, 5, 6,7,8,9,10,11,12]\n",
    "\n",
    "df1 = pd.DataFrame({'YEAR': YEAR, 'MONTH': MONTH})\n",
    "mnthavgdata = pd.DataFrame(mnthavg, columns = [' _temp'])\n",
    "mnthstdevdata = pd.DataFrame(mnthstdev, columns = [' _temp'])"
   ]
  },
  {
   "cell_type": "code",
   "execution_count": 37,
   "metadata": {},
   "outputs": [],
   "source": [
    "df1['DATE'] = pd.to_datetime(df1[['YEAR', 'MONTH']].assign(DAY=1))"
   ]
  },
  {
   "cell_type": "code",
   "execution_count": 38,
   "metadata": {},
   "outputs": [
    {
     "data": {
      "text/html": [
       "<div>\n",
       "<style scoped>\n",
       "    .dataframe tbody tr th:only-of-type {\n",
       "        vertical-align: middle;\n",
       "    }\n",
       "\n",
       "    .dataframe tbody tr th {\n",
       "        vertical-align: top;\n",
       "    }\n",
       "\n",
       "    .dataframe thead th {\n",
       "        text-align: right;\n",
       "    }\n",
       "</style>\n",
       "<table border=\"1\" class=\"dataframe\">\n",
       "  <thead>\n",
       "    <tr style=\"text-align: right;\">\n",
       "      <th></th>\n",
       "      <th>YEAR</th>\n",
       "      <th>MONTH</th>\n",
       "      <th>DATE</th>\n",
       "    </tr>\n",
       "  </thead>\n",
       "  <tbody>\n",
       "    <tr>\n",
       "      <th>0</th>\n",
       "      <td>2001</td>\n",
       "      <td>1</td>\n",
       "      <td>2001-01-01</td>\n",
       "    </tr>\n",
       "    <tr>\n",
       "      <th>1</th>\n",
       "      <td>2001</td>\n",
       "      <td>2</td>\n",
       "      <td>2001-02-01</td>\n",
       "    </tr>\n",
       "    <tr>\n",
       "      <th>2</th>\n",
       "      <td>2001</td>\n",
       "      <td>3</td>\n",
       "      <td>2001-03-01</td>\n",
       "    </tr>\n",
       "    <tr>\n",
       "      <th>3</th>\n",
       "      <td>2001</td>\n",
       "      <td>4</td>\n",
       "      <td>2001-04-01</td>\n",
       "    </tr>\n",
       "    <tr>\n",
       "      <th>4</th>\n",
       "      <td>2001</td>\n",
       "      <td>5</td>\n",
       "      <td>2001-05-01</td>\n",
       "    </tr>\n",
       "    <tr>\n",
       "      <th>5</th>\n",
       "      <td>2001</td>\n",
       "      <td>6</td>\n",
       "      <td>2001-06-01</td>\n",
       "    </tr>\n",
       "    <tr>\n",
       "      <th>6</th>\n",
       "      <td>2001</td>\n",
       "      <td>7</td>\n",
       "      <td>2001-07-01</td>\n",
       "    </tr>\n",
       "    <tr>\n",
       "      <th>7</th>\n",
       "      <td>2001</td>\n",
       "      <td>8</td>\n",
       "      <td>2001-08-01</td>\n",
       "    </tr>\n",
       "    <tr>\n",
       "      <th>8</th>\n",
       "      <td>2001</td>\n",
       "      <td>9</td>\n",
       "      <td>2001-09-01</td>\n",
       "    </tr>\n",
       "    <tr>\n",
       "      <th>9</th>\n",
       "      <td>2001</td>\n",
       "      <td>10</td>\n",
       "      <td>2001-10-01</td>\n",
       "    </tr>\n",
       "    <tr>\n",
       "      <th>10</th>\n",
       "      <td>2001</td>\n",
       "      <td>11</td>\n",
       "      <td>2001-11-01</td>\n",
       "    </tr>\n",
       "    <tr>\n",
       "      <th>11</th>\n",
       "      <td>2001</td>\n",
       "      <td>12</td>\n",
       "      <td>2001-12-01</td>\n",
       "    </tr>\n",
       "    <tr>\n",
       "      <th>12</th>\n",
       "      <td>2002</td>\n",
       "      <td>1</td>\n",
       "      <td>2002-01-01</td>\n",
       "    </tr>\n",
       "    <tr>\n",
       "      <th>13</th>\n",
       "      <td>2002</td>\n",
       "      <td>2</td>\n",
       "      <td>2002-02-01</td>\n",
       "    </tr>\n",
       "    <tr>\n",
       "      <th>14</th>\n",
       "      <td>2002</td>\n",
       "      <td>3</td>\n",
       "      <td>2002-03-01</td>\n",
       "    </tr>\n",
       "    <tr>\n",
       "      <th>15</th>\n",
       "      <td>2002</td>\n",
       "      <td>4</td>\n",
       "      <td>2002-04-01</td>\n",
       "    </tr>\n",
       "    <tr>\n",
       "      <th>16</th>\n",
       "      <td>2002</td>\n",
       "      <td>5</td>\n",
       "      <td>2002-05-01</td>\n",
       "    </tr>\n",
       "    <tr>\n",
       "      <th>17</th>\n",
       "      <td>2002</td>\n",
       "      <td>6</td>\n",
       "      <td>2002-06-01</td>\n",
       "    </tr>\n",
       "    <tr>\n",
       "      <th>18</th>\n",
       "      <td>2002</td>\n",
       "      <td>7</td>\n",
       "      <td>2002-07-01</td>\n",
       "    </tr>\n",
       "    <tr>\n",
       "      <th>19</th>\n",
       "      <td>2002</td>\n",
       "      <td>8</td>\n",
       "      <td>2002-08-01</td>\n",
       "    </tr>\n",
       "    <tr>\n",
       "      <th>20</th>\n",
       "      <td>2002</td>\n",
       "      <td>9</td>\n",
       "      <td>2002-09-01</td>\n",
       "    </tr>\n",
       "    <tr>\n",
       "      <th>21</th>\n",
       "      <td>2002</td>\n",
       "      <td>10</td>\n",
       "      <td>2002-10-01</td>\n",
       "    </tr>\n",
       "    <tr>\n",
       "      <th>22</th>\n",
       "      <td>2002</td>\n",
       "      <td>11</td>\n",
       "      <td>2002-11-01</td>\n",
       "    </tr>\n",
       "    <tr>\n",
       "      <th>23</th>\n",
       "      <td>2002</td>\n",
       "      <td>12</td>\n",
       "      <td>2002-12-01</td>\n",
       "    </tr>\n",
       "  </tbody>\n",
       "</table>\n",
       "</div>"
      ],
      "text/plain": [
       "    YEAR  MONTH       DATE\n",
       "0   2001      1 2001-01-01\n",
       "1   2001      2 2001-02-01\n",
       "2   2001      3 2001-03-01\n",
       "3   2001      4 2001-04-01\n",
       "4   2001      5 2001-05-01\n",
       "5   2001      6 2001-06-01\n",
       "6   2001      7 2001-07-01\n",
       "7   2001      8 2001-08-01\n",
       "8   2001      9 2001-09-01\n",
       "9   2001     10 2001-10-01\n",
       "10  2001     11 2001-11-01\n",
       "11  2001     12 2001-12-01\n",
       "12  2002      1 2002-01-01\n",
       "13  2002      2 2002-02-01\n",
       "14  2002      3 2002-03-01\n",
       "15  2002      4 2002-04-01\n",
       "16  2002      5 2002-05-01\n",
       "17  2002      6 2002-06-01\n",
       "18  2002      7 2002-07-01\n",
       "19  2002      8 2002-08-01\n",
       "20  2002      9 2002-09-01\n",
       "21  2002     10 2002-10-01\n",
       "22  2002     11 2002-11-01\n",
       "23  2002     12 2002-12-01"
      ]
     },
     "execution_count": 38,
     "metadata": {},
     "output_type": "execute_result"
    }
   ],
   "source": [
    "df1"
   ]
  },
  {
   "cell_type": "code",
   "execution_count": 45,
   "metadata": {},
   "outputs": [],
   "source": [
    "mnthavgdata['date']=df1['DATE']\n",
    "mnthstdevdata['date']=df1['DATE']"
   ]
  },
  {
   "cell_type": "code",
   "execution_count": 46,
   "metadata": {},
   "outputs": [],
   "source": [
    "cols={'date',' _temp'}\n",
    "mnthavgdata=mnthavgdata[cols]\n",
    "mnthstdevdata=mnthstdevdata[cols]"
   ]
  },
  {
   "cell_type": "code",
   "execution_count": 47,
   "metadata": {},
   "outputs": [
    {
     "data": {
      "text/plain": [
       "{' _temp', 'date'}"
      ]
     },
     "execution_count": 47,
     "metadata": {},
     "output_type": "execute_result"
    }
   ],
   "source": [
    "cols"
   ]
  },
  {
   "cell_type": "markdown",
   "metadata": {},
   "source": [
    "#### Once we have the measures of central tendency, and dispersion we cacluate the 95% confidence interval\n",
    "#### CI_95= average + 1.96*stdev/(sqrt(lenght of time series)) : lenght of time series for monthly is 30. it could vary depdending on recorde data."
   ]
  },
  {
   "cell_type": "code",
   "execution_count": 145,
   "metadata": {},
   "outputs": [],
   "source": [
    "CImnth=np.empty([0,2])\n",
    "zc=1.96#for 95 % confidence interval.\n",
    "for i in range(len(mnthavgdata)):\n",
    "    er = zc * (mnthstdevdata[' _temp'][i]/mt.sqrt(30))\n",
    "    CI=(mnthavgdata[' _temp'][i] - er, mnthavgdata[' _temp'][i] + er) \n",
    "    CImnth=np.vstack((CImnth,CI))\n",
    "    \n",
    "CIdates = pd.DataFrame(CImnth, columns = ['lb','ub'])\n",
    "CIdates['date']=df1['DATE']\n",
    "cols={'date','lb','ub'}\n",
    "\n",
    "CIdates=CIdates[cols]"
   ]
  },
  {
   "cell_type": "code",
   "execution_count": 52,
   "metadata": {},
   "outputs": [
    {
     "data": {
      "text/plain": [
       "array([14.32282077, 20.24796754, 25.49981579, 31.94704122, 34.91248681,\n",
       "       32.28554306, 31.93795738, 32.19852642, 32.5899674 , 29.46847813,\n",
       "       23.54609391, 17.68290065, 15.69326425, 19.32256833, 26.67397296,\n",
       "       33.99990291, 37.40306971, 35.65007626, 36.52116055, 31.80547835,\n",
       "       29.64086078, 28.7952465 , 23.13579648, 18.62739418])"
      ]
     },
     "execution_count": 52,
     "metadata": {},
     "output_type": "execute_result"
    }
   ],
   "source": [
    "CImnth[:,1]"
   ]
  },
  {
   "cell_type": "code",
   "execution_count": 54,
   "metadata": {},
   "outputs": [
    {
     "data": {
      "text/plain": [
       "[<matplotlib.lines.Line2D at 0x7feac5bfced0>]"
      ]
     },
     "execution_count": 54,
     "metadata": {},
     "output_type": "execute_result"
    },
    {
     "data": {
      "image/png": "[encoded data removed]",
      "text/plain": [
       "<Figure size 576x504 with 1 Axes>"
      ]
     },
     "metadata": {
      "needs_background": "light"
     },
     "output_type": "display_data"
    }
   ],
   "source": [
    "fig, ax = plt.subplots(figsize = (8,7))\n",
    "ax.plot(mnthavgdata['date'],mnthavgdata[' _temp'])"
   ]
  },
  {
   "cell_type": "code",
   "execution_count": null,
   "metadata": {},
   "outputs": [],
   "source": []
  },
  {
   "cell_type": "code",
   "execution_count": 55,
   "metadata": {},
   "outputs": [
    {
     "data": {
      "text/plain": [
       "[<matplotlib.lines.Line2D at 0x7feac59e0450>]"
      ]
     },
     "execution_count": 55,
     "metadata": {},
     "output_type": "execute_result"
    },
    {
     "data": {
      "image/png": "[encoded data removed]",
      "text/plain": [
       "<Figure size 576x504 with 1 Axes>"
      ]
     },
     "metadata": {
      "needs_background": "light"
     },
     "output_type": "display_data"
    }
   ],
   "source": [
    "fig, ax = plt.subplots(figsize = (8,7))\n",
    "ax.plot(mnthavgdata['date'],mnthavgdata[' _temp'])\n",
    "ax.plot(CIdates['date'],CIdates['lb'])\n",
    "ax.plot(CIdates['date'],CIdates['ub'])"
   ]
  },
  {
   "cell_type": "markdown",
   "metadata": {},
   "source": [
    "#### Plotting confidence intervals on top of monthly averaged data. \n",
    "#### ---> Question for you: Find out why it does not looks like that 95% data is not within the 95% CI curves"
   ]
  },
  {
   "cell_type": "code",
   "execution_count": 58,
   "metadata": {},
   "outputs": [
    {
     "data": {
      "text/plain": [
       "[<matplotlib.lines.Line2D at 0x7feac58d0c10>]"
      ]
     },
     "execution_count": 58,
     "metadata": {},
     "output_type": "execute_result"
    },
    {
     "data": {
      "image/png": "[encoded data removed]",
      "text/plain": [
       "<Figure size 576x504 with 1 Axes>"
      ]
     },
     "metadata": {
      "needs_background": "light"
     },
     "output_type": "display_data"
    }
   ],
   "source": [
    "fig, ax = plt.subplots(figsize = (8,7))\n",
    "ax.plot(data2k1['datetime_utc'],data2k1[' _tempm'])\n",
    "ax.plot(mnthavgdata['date'],mnthavgdata[' _temp'])\n",
    "ax.plot(CIdates['date'],CIdates['lb'])\n",
    "ax.plot(CIdates['date'],CIdates['ub'])"
   ]
  },
  {
   "cell_type": "markdown",
   "metadata": {},
   "source": [
    "### Taking monthly data for regression analysis\n",
    " We will first use the monthly averaged data for the years 2001 to 2005 and split it into training and testing sets."
   ]
  },
  {
   "cell_type": "markdown",
   "metadata": {},
   "source": [
    " Note to self for using the monthly average function:\n",
    " \n",
    " The order in which monthyl average function returns values is: avg,sdev,avgdew,sdevdew,avghum,sdevhum"
   ]
  },
  {
   "cell_type": "code",
   "execution_count": 60,
   "metadata": {},
   "outputs": [],
   "source": [
    "data2k5=dataND.loc[dataND.year.isin([2001,2002,2003,2004,2005]),:]\n",
    "avgR,sdevR,avgdewR,sdevdewR,avghumR,sdevhumR=monthlyavg(data2k5)"
   ]
  },
  {
   "cell_type": "code",
   "execution_count": 61,
   "metadata": {},
   "outputs": [
    {
     "data": {
      "text/plain": [
       "[<matplotlib.lines.Line2D at 0x7feac5a9d310>]"
      ]
     },
     "execution_count": 61,
     "metadata": {},
     "output_type": "execute_result"
    },
    {
     "data": {
      "image/png": "[encoded data removed]",
      "text/plain": [
       "<Figure size 576x504 with 1 Axes>"
      ]
     },
     "metadata": {
      "needs_background": "light"
     },
     "output_type": "display_data"
    }
   ],
   "source": [
    "fig, ax = plt.subplots(figsize = (8,7))\n",
    "ax.plot(data2k5['datetime_utc'],data2k5[' _tempm'])"
   ]
  },
  {
   "cell_type": "code",
   "execution_count": 62,
   "metadata": {},
   "outputs": [
    {
     "data": {
      "text/plain": [
       "[<matplotlib.lines.Line2D at 0x7feac5c11410>]"
      ]
     },
     "execution_count": 62,
     "metadata": {},
     "output_type": "execute_result"
    },
    {
     "data": {
      "image/png": "[encoded data removed]",
      "text/plain": [
       "<Figure size 576x504 with 1 Axes>"
      ]
     },
     "metadata": {
      "needs_background": "light"
     },
     "output_type": "display_data"
    }
   ],
   "source": [
    "fig, ax = plt.subplots(figsize = (8,7))\n",
    "ax.plot(data2k5['datetime_utc'],data2k5[' _dewptm'])"
   ]
  },
  {
   "cell_type": "code",
   "execution_count": 63,
   "metadata": {},
   "outputs": [
    {
     "data": {
      "text/plain": [
       "[<matplotlib.lines.Line2D at 0x7feac5874750>]"
      ]
     },
     "execution_count": 63,
     "metadata": {},
     "output_type": "execute_result"
    },
    {
     "data": {
      "image/png": "[encoded data removed]",
      "text/plain": [
       "<Figure size 576x504 with 1 Axes>"
      ]
     },
     "metadata": {
      "needs_background": "light"
     },
     "output_type": "display_data"
    }
   ],
   "source": [
    "fig, ax = plt.subplots(figsize = (8,7))\n",
    "ax.plot(data2k5['datetime_utc'],data2k5[' _hum'])"
   ]
  },
  {
   "cell_type": "code",
   "execution_count": 64,
   "metadata": {},
   "outputs": [
    {
     "data": {
      "text/plain": [
       "[<matplotlib.lines.Line2D at 0x7feac5706e90>]"
      ]
     },
     "execution_count": 64,
     "metadata": {},
     "output_type": "execute_result"
    },
    {
     "data": {
      "image/png": "[encoded data removed]",
      "text/plain": [
       "<Figure size 576x504 with 1 Axes>"
      ]
     },
     "metadata": {
      "needs_background": "light"
     },
     "output_type": "display_data"
    }
   ],
   "source": [
    "fig, ax = plt.subplots(figsize = (8,7))\n",
    "ax.plot(data2k5['datetime_utc'],data2k5[' _dewptm'])"
   ]
  },
  {
   "cell_type": "code",
   "execution_count": 65,
   "metadata": {},
   "outputs": [],
   "source": [
    "mnth1= [1, 2, 3, 4, 5, 6,7,8,9,10,11,12]*5"
   ]
  },
  {
   "cell_type": "code",
   "execution_count": 66,
   "metadata": {},
   "outputs": [],
   "source": [
    "mnth1= [1, 2, 3, 4, 5, 6,7,8,9,10,11,12]*5\n",
    "yr1=[2001]*12\n",
    "yr2=[2002]*12\n",
    "yr3=[2003]*12\n",
    "yr4=[2004]*12\n",
    "yr5=[2005]*12\n",
    "yr=yr1+yr2+yr3+yr4+yr5"
   ]
  },
  {
   "cell_type": "code",
   "execution_count": 67,
   "metadata": {},
   "outputs": [],
   "source": [
    "avgdata = {' _temp': avgR,\n",
    "        ' _dewptm': avgdewR,\n",
    "     ' _hum': avghumR}\n",
    "stdevdata = {' _temp': sdevR,\n",
    "        ' _dewptm': sdevdewR,\n",
    "     ' _hum': sdevhumR}\n"
   ]
  },
  {
   "cell_type": "code",
   "execution_count": 68,
   "metadata": {},
   "outputs": [],
   "source": [
    "dfm = pd.DataFrame({'YEAR': yr, 'MONTH': mnth1})\n",
    "dfm['DATE'] = pd.to_datetime(dfm[['YEAR', 'MONTH']].assign(DAY=1))"
   ]
  },
  {
   "cell_type": "code",
   "execution_count": 69,
   "metadata": {},
   "outputs": [
    {
     "data": {
      "text/html": [
       "<div>\n",
       "<style scoped>\n",
       "    .dataframe tbody tr th:only-of-type {\n",
       "        vertical-align: middle;\n",
       "    }\n",
       "\n",
       "    .dataframe tbody tr th {\n",
       "        vertical-align: top;\n",
       "    }\n",
       "\n",
       "    .dataframe thead th {\n",
       "        text-align: right;\n",
       "    }\n",
       "</style>\n",
       "<table border=\"1\" class=\"dataframe\">\n",
       "  <thead>\n",
       "    <tr style=\"text-align: right;\">\n",
       "      <th></th>\n",
       "      <th>YEAR</th>\n",
       "      <th>MONTH</th>\n",
       "      <th>DATE</th>\n",
       "    </tr>\n",
       "  </thead>\n",
       "  <tbody>\n",
       "    <tr>\n",
       "      <th>0</th>\n",
       "      <td>2001</td>\n",
       "      <td>1</td>\n",
       "      <td>2001-01-01</td>\n",
       "    </tr>\n",
       "    <tr>\n",
       "      <th>1</th>\n",
       "      <td>2001</td>\n",
       "      <td>2</td>\n",
       "      <td>2001-02-01</td>\n",
       "    </tr>\n",
       "    <tr>\n",
       "      <th>2</th>\n",
       "      <td>2001</td>\n",
       "      <td>3</td>\n",
       "      <td>2001-03-01</td>\n",
       "    </tr>\n",
       "    <tr>\n",
       "      <th>3</th>\n",
       "      <td>2001</td>\n",
       "      <td>4</td>\n",
       "      <td>2001-04-01</td>\n",
       "    </tr>\n",
       "    <tr>\n",
       "      <th>4</th>\n",
       "      <td>2001</td>\n",
       "      <td>5</td>\n",
       "      <td>2001-05-01</td>\n",
       "    </tr>\n",
       "    <tr>\n",
       "      <th>5</th>\n",
       "      <td>2001</td>\n",
       "      <td>6</td>\n",
       "      <td>2001-06-01</td>\n",
       "    </tr>\n",
       "    <tr>\n",
       "      <th>6</th>\n",
       "      <td>2001</td>\n",
       "      <td>7</td>\n",
       "      <td>2001-07-01</td>\n",
       "    </tr>\n",
       "    <tr>\n",
       "      <th>7</th>\n",
       "      <td>2001</td>\n",
       "      <td>8</td>\n",
       "      <td>2001-08-01</td>\n",
       "    </tr>\n",
       "    <tr>\n",
       "      <th>8</th>\n",
       "      <td>2001</td>\n",
       "      <td>9</td>\n",
       "      <td>2001-09-01</td>\n",
       "    </tr>\n",
       "    <tr>\n",
       "      <th>9</th>\n",
       "      <td>2001</td>\n",
       "      <td>10</td>\n",
       "      <td>2001-10-01</td>\n",
       "    </tr>\n",
       "    <tr>\n",
       "      <th>10</th>\n",
       "      <td>2001</td>\n",
       "      <td>11</td>\n",
       "      <td>2001-11-01</td>\n",
       "    </tr>\n",
       "    <tr>\n",
       "      <th>11</th>\n",
       "      <td>2001</td>\n",
       "      <td>12</td>\n",
       "      <td>2001-12-01</td>\n",
       "    </tr>\n",
       "    <tr>\n",
       "      <th>12</th>\n",
       "      <td>2002</td>\n",
       "      <td>1</td>\n",
       "      <td>2002-01-01</td>\n",
       "    </tr>\n",
       "    <tr>\n",
       "      <th>13</th>\n",
       "      <td>2002</td>\n",
       "      <td>2</td>\n",
       "      <td>2002-02-01</td>\n",
       "    </tr>\n",
       "    <tr>\n",
       "      <th>14</th>\n",
       "      <td>2002</td>\n",
       "      <td>3</td>\n",
       "      <td>2002-03-01</td>\n",
       "    </tr>\n",
       "    <tr>\n",
       "      <th>15</th>\n",
       "      <td>2002</td>\n",
       "      <td>4</td>\n",
       "      <td>2002-04-01</td>\n",
       "    </tr>\n",
       "    <tr>\n",
       "      <th>16</th>\n",
       "      <td>2002</td>\n",
       "      <td>5</td>\n",
       "      <td>2002-05-01</td>\n",
       "    </tr>\n",
       "    <tr>\n",
       "      <th>17</th>\n",
       "      <td>2002</td>\n",
       "      <td>6</td>\n",
       "      <td>2002-06-01</td>\n",
       "    </tr>\n",
       "    <tr>\n",
       "      <th>18</th>\n",
       "      <td>2002</td>\n",
       "      <td>7</td>\n",
       "      <td>2002-07-01</td>\n",
       "    </tr>\n",
       "    <tr>\n",
       "      <th>19</th>\n",
       "      <td>2002</td>\n",
       "      <td>8</td>\n",
       "      <td>2002-08-01</td>\n",
       "    </tr>\n",
       "    <tr>\n",
       "      <th>20</th>\n",
       "      <td>2002</td>\n",
       "      <td>9</td>\n",
       "      <td>2002-09-01</td>\n",
       "    </tr>\n",
       "    <tr>\n",
       "      <th>21</th>\n",
       "      <td>2002</td>\n",
       "      <td>10</td>\n",
       "      <td>2002-10-01</td>\n",
       "    </tr>\n",
       "    <tr>\n",
       "      <th>22</th>\n",
       "      <td>2002</td>\n",
       "      <td>11</td>\n",
       "      <td>2002-11-01</td>\n",
       "    </tr>\n",
       "    <tr>\n",
       "      <th>23</th>\n",
       "      <td>2002</td>\n",
       "      <td>12</td>\n",
       "      <td>2002-12-01</td>\n",
       "    </tr>\n",
       "    <tr>\n",
       "      <th>24</th>\n",
       "      <td>2003</td>\n",
       "      <td>1</td>\n",
       "      <td>2003-01-01</td>\n",
       "    </tr>\n",
       "    <tr>\n",
       "      <th>25</th>\n",
       "      <td>2003</td>\n",
       "      <td>2</td>\n",
       "      <td>2003-02-01</td>\n",
       "    </tr>\n",
       "    <tr>\n",
       "      <th>26</th>\n",
       "      <td>2003</td>\n",
       "      <td>3</td>\n",
       "      <td>2003-03-01</td>\n",
       "    </tr>\n",
       "    <tr>\n",
       "      <th>27</th>\n",
       "      <td>2003</td>\n",
       "      <td>4</td>\n",
       "      <td>2003-04-01</td>\n",
       "    </tr>\n",
       "    <tr>\n",
       "      <th>28</th>\n",
       "      <td>2003</td>\n",
       "      <td>5</td>\n",
       "      <td>2003-05-01</td>\n",
       "    </tr>\n",
       "    <tr>\n",
       "      <th>29</th>\n",
       "      <td>2003</td>\n",
       "      <td>6</td>\n",
       "      <td>2003-06-01</td>\n",
       "    </tr>\n",
       "    <tr>\n",
       "      <th>30</th>\n",
       "      <td>2003</td>\n",
       "      <td>7</td>\n",
       "      <td>2003-07-01</td>\n",
       "    </tr>\n",
       "    <tr>\n",
       "      <th>31</th>\n",
       "      <td>2003</td>\n",
       "      <td>8</td>\n",
       "      <td>2003-08-01</td>\n",
       "    </tr>\n",
       "    <tr>\n",
       "      <th>32</th>\n",
       "      <td>2003</td>\n",
       "      <td>9</td>\n",
       "      <td>2003-09-01</td>\n",
       "    </tr>\n",
       "    <tr>\n",
       "      <th>33</th>\n",
       "      <td>2003</td>\n",
       "      <td>10</td>\n",
       "      <td>2003-10-01</td>\n",
       "    </tr>\n",
       "    <tr>\n",
       "      <th>34</th>\n",
       "      <td>2003</td>\n",
       "      <td>11</td>\n",
       "      <td>2003-11-01</td>\n",
       "    </tr>\n",
       "    <tr>\n",
       "      <th>35</th>\n",
       "      <td>2003</td>\n",
       "      <td>12</td>\n",
       "      <td>2003-12-01</td>\n",
       "    </tr>\n",
       "    <tr>\n",
       "      <th>36</th>\n",
       "      <td>2004</td>\n",
       "      <td>1</td>\n",
       "      <td>2004-01-01</td>\n",
       "    </tr>\n",
       "    <tr>\n",
       "      <th>37</th>\n",
       "      <td>2004</td>\n",
       "      <td>2</td>\n",
       "      <td>2004-02-01</td>\n",
       "    </tr>\n",
       "    <tr>\n",
       "      <th>38</th>\n",
       "      <td>2004</td>\n",
       "      <td>3</td>\n",
       "      <td>2004-03-01</td>\n",
       "    </tr>\n",
       "    <tr>\n",
       "      <th>39</th>\n",
       "      <td>2004</td>\n",
       "      <td>4</td>\n",
       "      <td>2004-04-01</td>\n",
       "    </tr>\n",
       "    <tr>\n",
       "      <th>40</th>\n",
       "      <td>2004</td>\n",
       "      <td>5</td>\n",
       "      <td>2004-05-01</td>\n",
       "    </tr>\n",
       "    <tr>\n",
       "      <th>41</th>\n",
       "      <td>2004</td>\n",
       "      <td>6</td>\n",
       "      <td>2004-06-01</td>\n",
       "    </tr>\n",
       "    <tr>\n",
       "      <th>42</th>\n",
       "      <td>2004</td>\n",
       "      <td>7</td>\n",
       "      <td>2004-07-01</td>\n",
       "    </tr>\n",
       "    <tr>\n",
       "      <th>43</th>\n",
       "      <td>2004</td>\n",
       "      <td>8</td>\n",
       "      <td>2004-08-01</td>\n",
       "    </tr>\n",
       "    <tr>\n",
       "      <th>44</th>\n",
       "      <td>2004</td>\n",
       "      <td>9</td>\n",
       "      <td>2004-09-01</td>\n",
       "    </tr>\n",
       "    <tr>\n",
       "      <th>45</th>\n",
       "      <td>2004</td>\n",
       "      <td>10</td>\n",
       "      <td>2004-10-01</td>\n",
       "    </tr>\n",
       "    <tr>\n",
       "      <th>46</th>\n",
       "      <td>2004</td>\n",
       "      <td>11</td>\n",
       "      <td>2004-11-01</td>\n",
       "    </tr>\n",
       "    <tr>\n",
       "      <th>47</th>\n",
       "      <td>2004</td>\n",
       "      <td>12</td>\n",
       "      <td>2004-12-01</td>\n",
       "    </tr>\n",
       "    <tr>\n",
       "      <th>48</th>\n",
       "      <td>2005</td>\n",
       "      <td>1</td>\n",
       "      <td>2005-01-01</td>\n",
       "    </tr>\n",
       "    <tr>\n",
       "      <th>49</th>\n",
       "      <td>2005</td>\n",
       "      <td>2</td>\n",
       "      <td>2005-02-01</td>\n",
       "    </tr>\n",
       "    <tr>\n",
       "      <th>50</th>\n",
       "      <td>2005</td>\n",
       "      <td>3</td>\n",
       "      <td>2005-03-01</td>\n",
       "    </tr>\n",
       "    <tr>\n",
       "      <th>51</th>\n",
       "      <td>2005</td>\n",
       "      <td>4</td>\n",
       "      <td>2005-04-01</td>\n",
       "    </tr>\n",
       "    <tr>\n",
       "      <th>52</th>\n",
       "      <td>2005</td>\n",
       "      <td>5</td>\n",
       "      <td>2005-05-01</td>\n",
       "    </tr>\n",
       "    <tr>\n",
       "      <th>53</th>\n",
       "      <td>2005</td>\n",
       "      <td>6</td>\n",
       "      <td>2005-06-01</td>\n",
       "    </tr>\n",
       "    <tr>\n",
       "      <th>54</th>\n",
       "      <td>2005</td>\n",
       "      <td>7</td>\n",
       "      <td>2005-07-01</td>\n",
       "    </tr>\n",
       "    <tr>\n",
       "      <th>55</th>\n",
       "      <td>2005</td>\n",
       "      <td>8</td>\n",
       "      <td>2005-08-01</td>\n",
       "    </tr>\n",
       "    <tr>\n",
       "      <th>56</th>\n",
       "      <td>2005</td>\n",
       "      <td>9</td>\n",
       "      <td>2005-09-01</td>\n",
       "    </tr>\n",
       "    <tr>\n",
       "      <th>57</th>\n",
       "      <td>2005</td>\n",
       "      <td>10</td>\n",
       "      <td>2005-10-01</td>\n",
       "    </tr>\n",
       "    <tr>\n",
       "      <th>58</th>\n",
       "      <td>2005</td>\n",
       "      <td>11</td>\n",
       "      <td>2005-11-01</td>\n",
       "    </tr>\n",
       "    <tr>\n",
       "      <th>59</th>\n",
       "      <td>2005</td>\n",
       "      <td>12</td>\n",
       "      <td>2005-12-01</td>\n",
       "    </tr>\n",
       "  </tbody>\n",
       "</table>\n",
       "</div>"
      ],
      "text/plain": [
       "    YEAR  MONTH       DATE\n",
       "0   2001      1 2001-01-01\n",
       "1   2001      2 2001-02-01\n",
       "2   2001      3 2001-03-01\n",
       "3   2001      4 2001-04-01\n",
       "4   2001      5 2001-05-01\n",
       "5   2001      6 2001-06-01\n",
       "6   2001      7 2001-07-01\n",
       "7   2001      8 2001-08-01\n",
       "8   2001      9 2001-09-01\n",
       "9   2001     10 2001-10-01\n",
       "10  2001     11 2001-11-01\n",
       "11  2001     12 2001-12-01\n",
       "12  2002      1 2002-01-01\n",
       "13  2002      2 2002-02-01\n",
       "14  2002      3 2002-03-01\n",
       "15  2002      4 2002-04-01\n",
       "16  2002      5 2002-05-01\n",
       "17  2002      6 2002-06-01\n",
       "18  2002      7 2002-07-01\n",
       "19  2002      8 2002-08-01\n",
       "20  2002      9 2002-09-01\n",
       "21  2002     10 2002-10-01\n",
       "22  2002     11 2002-11-01\n",
       "23  2002     12 2002-12-01\n",
       "24  2003      1 2003-01-01\n",
       "25  2003      2 2003-02-01\n",
       "26  2003      3 2003-03-01\n",
       "27  2003      4 2003-04-01\n",
       "28  2003      5 2003-05-01\n",
       "29  2003      6 2003-06-01\n",
       "30  2003      7 2003-07-01\n",
       "31  2003      8 2003-08-01\n",
       "32  2003      9 2003-09-01\n",
       "33  2003     10 2003-10-01\n",
       "34  2003     11 2003-11-01\n",
       "35  2003     12 2003-12-01\n",
       "36  2004      1 2004-01-01\n",
       "37  2004      2 2004-02-01\n",
       "38  2004      3 2004-03-01\n",
       "39  2004      4 2004-04-01\n",
       "40  2004      5 2004-05-01\n",
       "41  2004      6 2004-06-01\n",
       "42  2004      7 2004-07-01\n",
       "43  2004      8 2004-08-01\n",
       "44  2004      9 2004-09-01\n",
       "45  2004     10 2004-10-01\n",
       "46  2004     11 2004-11-01\n",
       "47  2004     12 2004-12-01\n",
       "48  2005      1 2005-01-01\n",
       "49  2005      2 2005-02-01\n",
       "50  2005      3 2005-03-01\n",
       "51  2005      4 2005-04-01\n",
       "52  2005      5 2005-05-01\n",
       "53  2005      6 2005-06-01\n",
       "54  2005      7 2005-07-01\n",
       "55  2005      8 2005-08-01\n",
       "56  2005      9 2005-09-01\n",
       "57  2005     10 2005-10-01\n",
       "58  2005     11 2005-11-01\n",
       "59  2005     12 2005-12-01"
      ]
     },
     "execution_count": 69,
     "metadata": {},
     "output_type": "execute_result"
    }
   ],
   "source": [
    "dfm"
   ]
  },
  {
   "cell_type": "code",
   "execution_count": 70,
   "metadata": {},
   "outputs": [],
   "source": [
    "mnthavgdataR0 = pd.DataFrame(avgdata)\n",
    "mnthstdevdataR0=pd.DataFrame(stdevdata)"
   ]
  },
  {
   "cell_type": "code",
   "execution_count": 71,
   "metadata": {},
   "outputs": [],
   "source": [
    "mnthavgdataR0['date']=dfm['DATE']\n",
    "mnthstdevdataR0['date']=dfm['DATE']"
   ]
  },
  {
   "cell_type": "code",
   "execution_count": 72,
   "metadata": {},
   "outputs": [],
   "source": [
    "cols={'date',' _temp',' _dewptm',' _hum'}"
   ]
  },
  {
   "cell_type": "code",
   "execution_count": 73,
   "metadata": {},
   "outputs": [],
   "source": [
    "mnthavgdataR0=mnthavgdataR0[cols]\n",
    "mnthstdevdataR0=mnthstdevdataR0[cols]"
   ]
  },
  {
   "cell_type": "code",
   "execution_count": 74,
   "metadata": {},
   "outputs": [
    {
     "data": {
      "text/html": [
       "<div>\n",
       "<style scoped>\n",
       "    .dataframe tbody tr th:only-of-type {\n",
       "        vertical-align: middle;\n",
       "    }\n",
       "\n",
       "    .dataframe tbody tr th {\n",
       "        vertical-align: top;\n",
       "    }\n",
       "\n",
       "    .dataframe thead th {\n",
       "        text-align: right;\n",
       "    }\n",
       "</style>\n",
       "<table border=\"1\" class=\"dataframe\">\n",
       "  <thead>\n",
       "    <tr style=\"text-align: right;\">\n",
       "      <th></th>\n",
       "      <th>date</th>\n",
       "      <th>_temp</th>\n",
       "      <th>_dewptm</th>\n",
       "      <th>_hum</th>\n",
       "    </tr>\n",
       "  </thead>\n",
       "  <tbody>\n",
       "    <tr>\n",
       "      <th>0</th>\n",
       "      <td>2001-01-01</td>\n",
       "      <td>12.568436</td>\n",
       "      <td>7.829847</td>\n",
       "      <td>76.696927</td>\n",
       "    </tr>\n",
       "    <tr>\n",
       "      <th>1</th>\n",
       "      <td>2001-02-01</td>\n",
       "      <td>18.241270</td>\n",
       "      <td>7.112698</td>\n",
       "      <td>51.880952</td>\n",
       "    </tr>\n",
       "    <tr>\n",
       "      <th>2</th>\n",
       "      <td>2001-03-01</td>\n",
       "      <td>23.494737</td>\n",
       "      <td>7.561086</td>\n",
       "      <td>39.099548</td>\n",
       "    </tr>\n",
       "    <tr>\n",
       "      <th>3</th>\n",
       "      <td>2001-04-01</td>\n",
       "      <td>29.781388</td>\n",
       "      <td>14.159527</td>\n",
       "      <td>42.974889</td>\n",
       "    </tr>\n",
       "    <tr>\n",
       "      <th>4</th>\n",
       "      <td>2001-05-01</td>\n",
       "      <td>33.019526</td>\n",
       "      <td>16.450488</td>\n",
       "      <td>39.889819</td>\n",
       "    </tr>\n",
       "    <tr>\n",
       "      <th>5</th>\n",
       "      <td>2001-06-01</td>\n",
       "      <td>31.029197</td>\n",
       "      <td>21.697810</td>\n",
       "      <td>59.478832</td>\n",
       "    </tr>\n",
       "    <tr>\n",
       "      <th>6</th>\n",
       "      <td>2001-07-01</td>\n",
       "      <td>30.973164</td>\n",
       "      <td>24.524683</td>\n",
       "      <td>69.659605</td>\n",
       "    </tr>\n",
       "    <tr>\n",
       "      <th>7</th>\n",
       "      <td>2001-08-01</td>\n",
       "      <td>31.128134</td>\n",
       "      <td>22.930362</td>\n",
       "      <td>63.412256</td>\n",
       "    </tr>\n",
       "    <tr>\n",
       "      <th>8</th>\n",
       "      <td>2001-09-01</td>\n",
       "      <td>31.190202</td>\n",
       "      <td>19.135447</td>\n",
       "      <td>51.226225</td>\n",
       "    </tr>\n",
       "    <tr>\n",
       "      <th>9</th>\n",
       "      <td>2001-10-01</td>\n",
       "      <td>27.841410</td>\n",
       "      <td>15.517647</td>\n",
       "      <td>50.770588</td>\n",
       "    </tr>\n",
       "    <tr>\n",
       "      <th>10</th>\n",
       "      <td>2001-11-01</td>\n",
       "      <td>21.511561</td>\n",
       "      <td>8.504323</td>\n",
       "      <td>46.300578</td>\n",
       "    </tr>\n",
       "    <tr>\n",
       "      <th>11</th>\n",
       "      <td>2001-12-01</td>\n",
       "      <td>15.852368</td>\n",
       "      <td>7.710709</td>\n",
       "      <td>62.150418</td>\n",
       "    </tr>\n",
       "    <tr>\n",
       "      <th>12</th>\n",
       "      <td>2002-01-01</td>\n",
       "      <td>14.073816</td>\n",
       "      <td>7.103208</td>\n",
       "      <td>66.426778</td>\n",
       "    </tr>\n",
       "    <tr>\n",
       "      <th>13</th>\n",
       "      <td>2002-02-01</td>\n",
       "      <td>17.401225</td>\n",
       "      <td>7.130368</td>\n",
       "      <td>54.116564</td>\n",
       "    </tr>\n",
       "    <tr>\n",
       "      <th>14</th>\n",
       "      <td>2002-03-01</td>\n",
       "      <td>24.518569</td>\n",
       "      <td>9.599725</td>\n",
       "      <td>42.419532</td>\n",
       "    </tr>\n",
       "    <tr>\n",
       "      <th>15</th>\n",
       "      <td>2002-04-01</td>\n",
       "      <td>32.066474</td>\n",
       "      <td>9.067919</td>\n",
       "      <td>27.000000</td>\n",
       "    </tr>\n",
       "    <tr>\n",
       "      <th>16</th>\n",
       "      <td>2002-05-01</td>\n",
       "      <td>35.398340</td>\n",
       "      <td>14.325967</td>\n",
       "      <td>33.426003</td>\n",
       "    </tr>\n",
       "    <tr>\n",
       "      <th>17</th>\n",
       "      <td>2002-06-01</td>\n",
       "      <td>34.252841</td>\n",
       "      <td>21.559659</td>\n",
       "      <td>49.774148</td>\n",
       "    </tr>\n",
       "    <tr>\n",
       "      <th>18</th>\n",
       "      <td>2002-07-01</td>\n",
       "      <td>35.403846</td>\n",
       "      <td>21.270977</td>\n",
       "      <td>44.924347</td>\n",
       "    </tr>\n",
       "    <tr>\n",
       "      <th>19</th>\n",
       "      <td>2002-08-01</td>\n",
       "      <td>30.772795</td>\n",
       "      <td>24.856502</td>\n",
       "      <td>71.883408</td>\n",
       "    </tr>\n",
       "    <tr>\n",
       "      <th>20</th>\n",
       "      <td>2002-09-01</td>\n",
       "      <td>28.458015</td>\n",
       "      <td>21.879205</td>\n",
       "      <td>69.681957</td>\n",
       "    </tr>\n",
       "    <tr>\n",
       "      <th>21</th>\n",
       "      <td>2002-10-01</td>\n",
       "      <td>27.179416</td>\n",
       "      <td>16.527778</td>\n",
       "      <td>54.972184</td>\n",
       "    </tr>\n",
       "    <tr>\n",
       "      <th>22</th>\n",
       "      <td>2002-11-01</td>\n",
       "      <td>21.319544</td>\n",
       "      <td>10.406562</td>\n",
       "      <td>52.907275</td>\n",
       "    </tr>\n",
       "    <tr>\n",
       "      <th>23</th>\n",
       "      <td>2002-12-01</td>\n",
       "      <td>16.826265</td>\n",
       "      <td>7.889041</td>\n",
       "      <td>59.828767</td>\n",
       "    </tr>\n",
       "    <tr>\n",
       "      <th>24</th>\n",
       "      <td>2003-01-01</td>\n",
       "      <td>11.805596</td>\n",
       "      <td>8.424153</td>\n",
       "      <td>82.634757</td>\n",
       "    </tr>\n",
       "    <tr>\n",
       "      <th>25</th>\n",
       "      <td>2003-02-01</td>\n",
       "      <td>17.932707</td>\n",
       "      <td>11.198748</td>\n",
       "      <td>67.812207</td>\n",
       "    </tr>\n",
       "    <tr>\n",
       "      <th>26</th>\n",
       "      <td>2003-03-01</td>\n",
       "      <td>23.513699</td>\n",
       "      <td>11.273973</td>\n",
       "      <td>49.439726</td>\n",
       "    </tr>\n",
       "    <tr>\n",
       "      <th>27</th>\n",
       "      <td>2003-04-01</td>\n",
       "      <td>31.724576</td>\n",
       "      <td>9.502825</td>\n",
       "      <td>27.980226</td>\n",
       "    </tr>\n",
       "    <tr>\n",
       "      <th>28</th>\n",
       "      <td>2003-05-01</td>\n",
       "      <td>35.013265</td>\n",
       "      <td>10.727551</td>\n",
       "      <td>25.760204</td>\n",
       "    </tr>\n",
       "    <tr>\n",
       "      <th>29</th>\n",
       "      <td>2003-06-01</td>\n",
       "      <td>35.534776</td>\n",
       "      <td>20.303709</td>\n",
       "      <td>46.267388</td>\n",
       "    </tr>\n",
       "    <tr>\n",
       "      <th>30</th>\n",
       "      <td>2003-07-01</td>\n",
       "      <td>30.330591</td>\n",
       "      <td>25.433409</td>\n",
       "      <td>76.704819</td>\n",
       "    </tr>\n",
       "    <tr>\n",
       "      <th>31</th>\n",
       "      <td>2003-08-01</td>\n",
       "      <td>29.986081</td>\n",
       "      <td>25.682692</td>\n",
       "      <td>78.607407</td>\n",
       "    </tr>\n",
       "    <tr>\n",
       "      <th>32</th>\n",
       "      <td>2003-09-01</td>\n",
       "      <td>28.974981</td>\n",
       "      <td>23.808946</td>\n",
       "      <td>75.187263</td>\n",
       "    </tr>\n",
       "    <tr>\n",
       "      <th>33</th>\n",
       "      <td>2003-10-01</td>\n",
       "      <td>26.455861</td>\n",
       "      <td>14.209689</td>\n",
       "      <td>49.802460</td>\n",
       "    </tr>\n",
       "    <tr>\n",
       "      <th>34</th>\n",
       "      <td>2003-11-01</td>\n",
       "      <td>20.340183</td>\n",
       "      <td>8.552932</td>\n",
       "      <td>49.848323</td>\n",
       "    </tr>\n",
       "    <tr>\n",
       "      <th>35</th>\n",
       "      <td>2003-12-01</td>\n",
       "      <td>15.130564</td>\n",
       "      <td>10.235250</td>\n",
       "      <td>75.760837</td>\n",
       "    </tr>\n",
       "    <tr>\n",
       "      <th>36</th>\n",
       "      <td>2004-01-01</td>\n",
       "      <td>13.079007</td>\n",
       "      <td>9.714502</td>\n",
       "      <td>82.285714</td>\n",
       "    </tr>\n",
       "    <tr>\n",
       "      <th>37</th>\n",
       "      <td>2004-02-01</td>\n",
       "      <td>18.681077</td>\n",
       "      <td>10.591354</td>\n",
       "      <td>63.744490</td>\n",
       "    </tr>\n",
       "    <tr>\n",
       "      <th>38</th>\n",
       "      <td>2004-03-01</td>\n",
       "      <td>26.635285</td>\n",
       "      <td>10.864985</td>\n",
       "      <td>42.197329</td>\n",
       "    </tr>\n",
       "    <tr>\n",
       "      <th>39</th>\n",
       "      <td>2004-04-01</td>\n",
       "      <td>31.875836</td>\n",
       "      <td>11.652303</td>\n",
       "      <td>32.714498</td>\n",
       "    </tr>\n",
       "    <tr>\n",
       "      <th>40</th>\n",
       "      <td>2004-05-01</td>\n",
       "      <td>34.343840</td>\n",
       "      <td>15.673352</td>\n",
       "      <td>36.159857</td>\n",
       "    </tr>\n",
       "    <tr>\n",
       "      <th>41</th>\n",
       "      <td>2004-06-01</td>\n",
       "      <td>33.127636</td>\n",
       "      <td>20.684035</td>\n",
       "      <td>49.663707</td>\n",
       "    </tr>\n",
       "    <tr>\n",
       "      <th>42</th>\n",
       "      <td>2004-07-01</td>\n",
       "      <td>32.711934</td>\n",
       "      <td>23.475410</td>\n",
       "      <td>52.407407</td>\n",
       "    </tr>\n",
       "    <tr>\n",
       "      <th>43</th>\n",
       "      <td>2004-08-01</td>\n",
       "      <td>29.614841</td>\n",
       "      <td>25.321555</td>\n",
       "      <td>74.597173</td>\n",
       "    </tr>\n",
       "    <tr>\n",
       "      <th>44</th>\n",
       "      <td>2004-09-01</td>\n",
       "      <td>29.948052</td>\n",
       "      <td>21.436482</td>\n",
       "      <td>57.844156</td>\n",
       "    </tr>\n",
       "    <tr>\n",
       "      <th>45</th>\n",
       "      <td>2004-10-01</td>\n",
       "      <td>24.247934</td>\n",
       "      <td>17.668033</td>\n",
       "      <td>63.433884</td>\n",
       "    </tr>\n",
       "    <tr>\n",
       "      <th>46</th>\n",
       "      <td>2004-11-01</td>\n",
       "      <td>19.474359</td>\n",
       "      <td>12.230769</td>\n",
       "      <td>60.628205</td>\n",
       "    </tr>\n",
       "    <tr>\n",
       "      <th>47</th>\n",
       "      <td>2004-12-01</td>\n",
       "      <td>15.448560</td>\n",
       "      <td>9.962810</td>\n",
       "      <td>66.037344</td>\n",
       "    </tr>\n",
       "    <tr>\n",
       "      <th>48</th>\n",
       "      <td>2005-01-01</td>\n",
       "      <td>13.422764</td>\n",
       "      <td>7.845528</td>\n",
       "      <td>65.208163</td>\n",
       "    </tr>\n",
       "    <tr>\n",
       "      <th>49</th>\n",
       "      <td>2005-02-01</td>\n",
       "      <td>16.763636</td>\n",
       "      <td>9.990991</td>\n",
       "      <td>59.895455</td>\n",
       "    </tr>\n",
       "    <tr>\n",
       "      <th>50</th>\n",
       "      <td>2005-03-01</td>\n",
       "      <td>23.668067</td>\n",
       "      <td>14.016667</td>\n",
       "      <td>51.470588</td>\n",
       "    </tr>\n",
       "    <tr>\n",
       "      <th>51</th>\n",
       "      <td>2005-04-01</td>\n",
       "      <td>28.619247</td>\n",
       "      <td>8.445833</td>\n",
       "      <td>23.698745</td>\n",
       "    </tr>\n",
       "    <tr>\n",
       "      <th>52</th>\n",
       "      <td>2005-05-01</td>\n",
       "      <td>32.276423</td>\n",
       "      <td>12.878049</td>\n",
       "      <td>25.634146</td>\n",
       "    </tr>\n",
       "    <tr>\n",
       "      <th>53</th>\n",
       "      <td>2005-06-01</td>\n",
       "      <td>33.983122</td>\n",
       "      <td>19.254237</td>\n",
       "      <td>39.173729</td>\n",
       "    </tr>\n",
       "    <tr>\n",
       "      <th>54</th>\n",
       "      <td>2005-07-01</td>\n",
       "      <td>30.176230</td>\n",
       "      <td>25.728395</td>\n",
       "      <td>72.909465</td>\n",
       "    </tr>\n",
       "    <tr>\n",
       "      <th>55</th>\n",
       "      <td>2005-08-01</td>\n",
       "      <td>31.415323</td>\n",
       "      <td>23.879032</td>\n",
       "      <td>59.120968</td>\n",
       "    </tr>\n",
       "    <tr>\n",
       "      <th>56</th>\n",
       "      <td>2005-09-01</td>\n",
       "      <td>28.786611</td>\n",
       "      <td>23.682008</td>\n",
       "      <td>70.430962</td>\n",
       "    </tr>\n",
       "    <tr>\n",
       "      <th>57</th>\n",
       "      <td>2005-10-01</td>\n",
       "      <td>25.069672</td>\n",
       "      <td>16.311475</td>\n",
       "      <td>55.340164</td>\n",
       "    </tr>\n",
       "    <tr>\n",
       "      <th>58</th>\n",
       "      <td>2005-11-01</td>\n",
       "      <td>19.516949</td>\n",
       "      <td>9.727660</td>\n",
       "      <td>50.353191</td>\n",
       "    </tr>\n",
       "    <tr>\n",
       "      <th>59</th>\n",
       "      <td>2005-12-01</td>\n",
       "      <td>13.553114</td>\n",
       "      <td>6.079710</td>\n",
       "      <td>59.732601</td>\n",
       "    </tr>\n",
       "  </tbody>\n",
       "</table>\n",
       "</div>"
      ],
      "text/plain": [
       "         date      _temp    _dewptm       _hum\n",
       "0  2001-01-01  12.568436   7.829847  76.696927\n",
       "1  2001-02-01  18.241270   7.112698  51.880952\n",
       "2  2001-03-01  23.494737   7.561086  39.099548\n",
       "3  2001-04-01  29.781388  14.159527  42.974889\n",
       "4  2001-05-01  33.019526  16.450488  39.889819\n",
       "5  2001-06-01  31.029197  21.697810  59.478832\n",
       "6  2001-07-01  30.973164  24.524683  69.659605\n",
       "7  2001-08-01  31.128134  22.930362  63.412256\n",
       "8  2001-09-01  31.190202  19.135447  51.226225\n",
       "9  2001-10-01  27.841410  15.517647  50.770588\n",
       "10 2001-11-01  21.511561   8.504323  46.300578\n",
       "11 2001-12-01  15.852368   7.710709  62.150418\n",
       "12 2002-01-01  14.073816   7.103208  66.426778\n",
       "13 2002-02-01  17.401225   7.130368  54.116564\n",
       "14 2002-03-01  24.518569   9.599725  42.419532\n",
       "15 2002-04-01  32.066474   9.067919  27.000000\n",
       "16 2002-05-01  35.398340  14.325967  33.426003\n",
       "17 2002-06-01  34.252841  21.559659  49.774148\n",
       "18 2002-07-01  35.403846  21.270977  44.924347\n",
       "19 2002-08-01  30.772795  24.856502  71.883408\n",
       "20 2002-09-01  28.458015  21.879205  69.681957\n",
       "21 2002-10-01  27.179416  16.527778  54.972184\n",
       "22 2002-11-01  21.319544  10.406562  52.907275\n",
       "23 2002-12-01  16.826265   7.889041  59.828767\n",
       "24 2003-01-01  11.805596   8.424153  82.634757\n",
       "25 2003-02-01  17.932707  11.198748  67.812207\n",
       "26 2003-03-01  23.513699  11.273973  49.439726\n",
       "27 2003-04-01  31.724576   9.502825  27.980226\n",
       "28 2003-05-01  35.013265  10.727551  25.760204\n",
       "29 2003-06-01  35.534776  20.303709  46.267388\n",
       "30 2003-07-01  30.330591  25.433409  76.704819\n",
       "31 2003-08-01  29.986081  25.682692  78.607407\n",
       "32 2003-09-01  28.974981  23.808946  75.187263\n",
       "33 2003-10-01  26.455861  14.209689  49.802460\n",
       "34 2003-11-01  20.340183   8.552932  49.848323\n",
       "35 2003-12-01  15.130564  10.235250  75.760837\n",
       "36 2004-01-01  13.079007   9.714502  82.285714\n",
       "37 2004-02-01  18.681077  10.591354  63.744490\n",
       "38 2004-03-01  26.635285  10.864985  42.197329\n",
       "39 2004-04-01  31.875836  11.652303  32.714498\n",
       "40 2004-05-01  34.343840  15.673352  36.159857\n",
       "41 2004-06-01  33.127636  20.684035  49.663707\n",
       "42 2004-07-01  32.711934  23.475410  52.407407\n",
       "43 2004-08-01  29.614841  25.321555  74.597173\n",
       "44 2004-09-01  29.948052  21.436482  57.844156\n",
       "45 2004-10-01  24.247934  17.668033  63.433884\n",
       "46 2004-11-01  19.474359  12.230769  60.628205\n",
       "47 2004-12-01  15.448560   9.962810  66.037344\n",
       "48 2005-01-01  13.422764   7.845528  65.208163\n",
       "49 2005-02-01  16.763636   9.990991  59.895455\n",
       "50 2005-03-01  23.668067  14.016667  51.470588\n",
       "51 2005-04-01  28.619247   8.445833  23.698745\n",
       "52 2005-05-01  32.276423  12.878049  25.634146\n",
       "53 2005-06-01  33.983122  19.254237  39.173729\n",
       "54 2005-07-01  30.176230  25.728395  72.909465\n",
       "55 2005-08-01  31.415323  23.879032  59.120968\n",
       "56 2005-09-01  28.786611  23.682008  70.430962\n",
       "57 2005-10-01  25.069672  16.311475  55.340164\n",
       "58 2005-11-01  19.516949   9.727660  50.353191\n",
       "59 2005-12-01  13.553114   6.079710  59.732601"
      ]
     },
     "execution_count": 74,
     "metadata": {},
     "output_type": "execute_result"
    }
   ],
   "source": [
    "mnthavgdataR0"
   ]
  },
  {
   "cell_type": "code",
   "execution_count": 75,
   "metadata": {},
   "outputs": [
    {
     "data": {
      "text/html": [
       "<div>\n",
       "<style scoped>\n",
       "    .dataframe tbody tr th:only-of-type {\n",
       "        vertical-align: middle;\n",
       "    }\n",
       "\n",
       "    .dataframe tbody tr th {\n",
       "        vertical-align: top;\n",
       "    }\n",
       "\n",
       "    .dataframe thead th {\n",
       "        text-align: right;\n",
       "    }\n",
       "</style>\n",
       "<table border=\"1\" class=\"dataframe\">\n",
       "  <thead>\n",
       "    <tr style=\"text-align: right;\">\n",
       "      <th></th>\n",
       "      <th>date</th>\n",
       "      <th>_temp</th>\n",
       "      <th>_dewptm</th>\n",
       "      <th>_hum</th>\n",
       "    </tr>\n",
       "  </thead>\n",
       "  <tbody>\n",
       "    <tr>\n",
       "      <th>0</th>\n",
       "      <td>2001-01-01</td>\n",
       "      <td>4.902634</td>\n",
       "      <td>2.899825</td>\n",
       "      <td>20.862386</td>\n",
       "    </tr>\n",
       "    <tr>\n",
       "      <th>1</th>\n",
       "      <td>2001-02-01</td>\n",
       "      <td>5.607722</td>\n",
       "      <td>3.197469</td>\n",
       "      <td>18.281749</td>\n",
       "    </tr>\n",
       "    <tr>\n",
       "      <th>2</th>\n",
       "      <td>2001-03-01</td>\n",
       "      <td>5.603199</td>\n",
       "      <td>4.474374</td>\n",
       "      <td>16.391120</td>\n",
       "    </tr>\n",
       "    <tr>\n",
       "      <th>3</th>\n",
       "      <td>2001-04-01</td>\n",
       "      <td>6.051923</td>\n",
       "      <td>2.864949</td>\n",
       "      <td>19.988866</td>\n",
       "    </tr>\n",
       "    <tr>\n",
       "      <th>4</th>\n",
       "      <td>2001-05-01</td>\n",
       "      <td>5.289885</td>\n",
       "      <td>3.434888</td>\n",
       "      <td>16.253582</td>\n",
       "    </tr>\n",
       "    <tr>\n",
       "      <th>5</th>\n",
       "      <td>2001-06-01</td>\n",
       "      <td>3.510862</td>\n",
       "      <td>3.161919</td>\n",
       "      <td>15.396224</td>\n",
       "    </tr>\n",
       "    <tr>\n",
       "      <th>6</th>\n",
       "      <td>2001-07-01</td>\n",
       "      <td>2.696118</td>\n",
       "      <td>1.524977</td>\n",
       "      <td>12.768637</td>\n",
       "    </tr>\n",
       "    <tr>\n",
       "      <th>7</th>\n",
       "      <td>2001-08-01</td>\n",
       "      <td>2.991215</td>\n",
       "      <td>2.712428</td>\n",
       "      <td>14.691724</td>\n",
       "    </tr>\n",
       "    <tr>\n",
       "      <th>8</th>\n",
       "      <td>2001-09-01</td>\n",
       "      <td>3.911649</td>\n",
       "      <td>2.895208</td>\n",
       "      <td>15.847139</td>\n",
       "    </tr>\n",
       "    <tr>\n",
       "      <th>9</th>\n",
       "      <td>2001-10-01</td>\n",
       "      <td>4.546847</td>\n",
       "      <td>4.611652</td>\n",
       "      <td>19.026074</td>\n",
       "    </tr>\n",
       "    <tr>\n",
       "      <th>10</th>\n",
       "      <td>2001-11-01</td>\n",
       "      <td>5.685509</td>\n",
       "      <td>2.992663</td>\n",
       "      <td>15.620475</td>\n",
       "    </tr>\n",
       "    <tr>\n",
       "      <th>11</th>\n",
       "      <td>2001-12-01</td>\n",
       "      <td>5.115430</td>\n",
       "      <td>2.105634</td>\n",
       "      <td>19.802850</td>\n",
       "    </tr>\n",
       "    <tr>\n",
       "      <th>12</th>\n",
       "      <td>2002-01-01</td>\n",
       "      <td>4.525552</td>\n",
       "      <td>2.637664</td>\n",
       "      <td>19.865356</td>\n",
       "    </tr>\n",
       "    <tr>\n",
       "      <th>13</th>\n",
       "      <td>2002-02-01</td>\n",
       "      <td>5.369199</td>\n",
       "      <td>3.428033</td>\n",
       "      <td>17.402892</td>\n",
       "    </tr>\n",
       "    <tr>\n",
       "      <th>14</th>\n",
       "      <td>2002-03-01</td>\n",
       "      <td>6.023281</td>\n",
       "      <td>3.089344</td>\n",
       "      <td>16.655711</td>\n",
       "    </tr>\n",
       "    <tr>\n",
       "      <th>15</th>\n",
       "      <td>2002-04-01</td>\n",
       "      <td>5.402973</td>\n",
       "      <td>4.212527</td>\n",
       "      <td>13.023545</td>\n",
       "    </tr>\n",
       "    <tr>\n",
       "      <th>16</th>\n",
       "      <td>2002-05-01</td>\n",
       "      <td>5.602222</td>\n",
       "      <td>6.475738</td>\n",
       "      <td>19.842770</td>\n",
       "    </tr>\n",
       "    <tr>\n",
       "      <th>17</th>\n",
       "      <td>2002-06-01</td>\n",
       "      <td>3.904578</td>\n",
       "      <td>2.892362</td>\n",
       "      <td>15.108278</td>\n",
       "    </tr>\n",
       "    <tr>\n",
       "      <th>18</th>\n",
       "      <td>2002-07-01</td>\n",
       "      <td>3.122338</td>\n",
       "      <td>2.173878</td>\n",
       "      <td>11.418802</td>\n",
       "    </tr>\n",
       "    <tr>\n",
       "      <th>19</th>\n",
       "      <td>2002-08-01</td>\n",
       "      <td>2.885836</td>\n",
       "      <td>1.402658</td>\n",
       "      <td>12.819601</td>\n",
       "    </tr>\n",
       "    <tr>\n",
       "      <th>20</th>\n",
       "      <td>2002-09-01</td>\n",
       "      <td>3.305465</td>\n",
       "      <td>2.574118</td>\n",
       "      <td>16.696236</td>\n",
       "    </tr>\n",
       "    <tr>\n",
       "      <th>21</th>\n",
       "      <td>2002-10-01</td>\n",
       "      <td>4.515443</td>\n",
       "      <td>3.199706</td>\n",
       "      <td>16.496952</td>\n",
       "    </tr>\n",
       "    <tr>\n",
       "      <th>22</th>\n",
       "      <td>2002-11-01</td>\n",
       "      <td>5.075524</td>\n",
       "      <td>3.947431</td>\n",
       "      <td>17.053452</td>\n",
       "    </tr>\n",
       "    <tr>\n",
       "      <th>23</th>\n",
       "      <td>2002-12-01</td>\n",
       "      <td>5.033260</td>\n",
       "      <td>2.756316</td>\n",
       "      <td>20.637630</td>\n",
       "    </tr>\n",
       "    <tr>\n",
       "      <th>24</th>\n",
       "      <td>2003-01-01</td>\n",
       "      <td>4.819318</td>\n",
       "      <td>2.919097</td>\n",
       "      <td>17.956313</td>\n",
       "    </tr>\n",
       "    <tr>\n",
       "      <th>25</th>\n",
       "      <td>2003-02-01</td>\n",
       "      <td>4.656613</td>\n",
       "      <td>3.094181</td>\n",
       "      <td>18.899929</td>\n",
       "    </tr>\n",
       "    <tr>\n",
       "      <th>26</th>\n",
       "      <td>2003-03-01</td>\n",
       "      <td>5.664642</td>\n",
       "      <td>4.681530</td>\n",
       "      <td>17.469263</td>\n",
       "    </tr>\n",
       "    <tr>\n",
       "      <th>27</th>\n",
       "      <td>2003-04-01</td>\n",
       "      <td>5.347962</td>\n",
       "      <td>3.511682</td>\n",
       "      <td>12.959178</td>\n",
       "    </tr>\n",
       "    <tr>\n",
       "      <th>28</th>\n",
       "      <td>2003-05-01</td>\n",
       "      <td>4.999472</td>\n",
       "      <td>5.618143</td>\n",
       "      <td>13.861805</td>\n",
       "    </tr>\n",
       "    <tr>\n",
       "      <th>29</th>\n",
       "      <td>2003-06-01</td>\n",
       "      <td>4.816889</td>\n",
       "      <td>5.202814</td>\n",
       "      <td>21.304764</td>\n",
       "    </tr>\n",
       "    <tr>\n",
       "      <th>30</th>\n",
       "      <td>2003-07-01</td>\n",
       "      <td>3.127301</td>\n",
       "      <td>2.526363</td>\n",
       "      <td>14.399953</td>\n",
       "    </tr>\n",
       "    <tr>\n",
       "      <th>31</th>\n",
       "      <td>2003-08-01</td>\n",
       "      <td>2.369330</td>\n",
       "      <td>2.450829</td>\n",
       "      <td>11.973982</td>\n",
       "    </tr>\n",
       "    <tr>\n",
       "      <th>32</th>\n",
       "      <td>2003-09-01</td>\n",
       "      <td>2.770769</td>\n",
       "      <td>2.145548</td>\n",
       "      <td>14.189467</td>\n",
       "    </tr>\n",
       "    <tr>\n",
       "      <th>33</th>\n",
       "      <td>2003-10-01</td>\n",
       "      <td>4.777450</td>\n",
       "      <td>2.903509</td>\n",
       "      <td>16.370110</td>\n",
       "    </tr>\n",
       "    <tr>\n",
       "      <th>34</th>\n",
       "      <td>2003-11-01</td>\n",
       "      <td>5.831013</td>\n",
       "      <td>3.341968</td>\n",
       "      <td>16.450517</td>\n",
       "    </tr>\n",
       "    <tr>\n",
       "      <th>35</th>\n",
       "      <td>2003-12-01</td>\n",
       "      <td>5.016074</td>\n",
       "      <td>2.967196</td>\n",
       "      <td>19.193715</td>\n",
       "    </tr>\n",
       "    <tr>\n",
       "      <th>36</th>\n",
       "      <td>2004-01-01</td>\n",
       "      <td>3.971750</td>\n",
       "      <td>2.551299</td>\n",
       "      <td>16.599684</td>\n",
       "    </tr>\n",
       "    <tr>\n",
       "      <th>37</th>\n",
       "      <td>2004-02-01</td>\n",
       "      <td>6.152514</td>\n",
       "      <td>3.716972</td>\n",
       "      <td>21.744059</td>\n",
       "    </tr>\n",
       "    <tr>\n",
       "      <th>38</th>\n",
       "      <td>2004-03-01</td>\n",
       "      <td>6.100989</td>\n",
       "      <td>4.397483</td>\n",
       "      <td>19.849648</td>\n",
       "    </tr>\n",
       "    <tr>\n",
       "      <th>39</th>\n",
       "      <td>2004-04-01</td>\n",
       "      <td>5.333507</td>\n",
       "      <td>4.448924</td>\n",
       "      <td>16.623367</td>\n",
       "    </tr>\n",
       "    <tr>\n",
       "      <th>40</th>\n",
       "      <td>2004-05-01</td>\n",
       "      <td>5.574641</td>\n",
       "      <td>3.949271</td>\n",
       "      <td>16.489974</td>\n",
       "    </tr>\n",
       "    <tr>\n",
       "      <th>41</th>\n",
       "      <td>2004-06-01</td>\n",
       "      <td>4.093025</td>\n",
       "      <td>2.672632</td>\n",
       "      <td>15.391059</td>\n",
       "    </tr>\n",
       "    <tr>\n",
       "      <th>42</th>\n",
       "      <td>2004-07-01</td>\n",
       "      <td>3.267142</td>\n",
       "      <td>2.102743</td>\n",
       "      <td>16.625959</td>\n",
       "    </tr>\n",
       "    <tr>\n",
       "      <th>43</th>\n",
       "      <td>2004-08-01</td>\n",
       "      <td>2.644427</td>\n",
       "      <td>1.814487</td>\n",
       "      <td>14.724571</td>\n",
       "    </tr>\n",
       "    <tr>\n",
       "      <th>44</th>\n",
       "      <td>2004-09-01</td>\n",
       "      <td>3.736955</td>\n",
       "      <td>2.330586</td>\n",
       "      <td>20.875522</td>\n",
       "    </tr>\n",
       "    <tr>\n",
       "      <th>45</th>\n",
       "      <td>2004-10-01</td>\n",
       "      <td>4.755651</td>\n",
       "      <td>3.464167</td>\n",
       "      <td>22.211180</td>\n",
       "    </tr>\n",
       "    <tr>\n",
       "      <th>46</th>\n",
       "      <td>2004-11-01</td>\n",
       "      <td>5.367019</td>\n",
       "      <td>3.106059</td>\n",
       "      <td>24.809070</td>\n",
       "    </tr>\n",
       "    <tr>\n",
       "      <th>47</th>\n",
       "      <td>2004-12-01</td>\n",
       "      <td>4.748015</td>\n",
       "      <td>2.575043</td>\n",
       "      <td>22.257142</td>\n",
       "    </tr>\n",
       "    <tr>\n",
       "      <th>48</th>\n",
       "      <td>2005-01-01</td>\n",
       "      <td>4.239781</td>\n",
       "      <td>2.531212</td>\n",
       "      <td>22.098332</td>\n",
       "    </tr>\n",
       "    <tr>\n",
       "      <th>49</th>\n",
       "      <td>2005-02-01</td>\n",
       "      <td>4.598275</td>\n",
       "      <td>3.976271</td>\n",
       "      <td>22.911350</td>\n",
       "    </tr>\n",
       "    <tr>\n",
       "      <th>50</th>\n",
       "      <td>2005-03-01</td>\n",
       "      <td>4.739773</td>\n",
       "      <td>4.054798</td>\n",
       "      <td>23.269999</td>\n",
       "    </tr>\n",
       "    <tr>\n",
       "      <th>51</th>\n",
       "      <td>2005-04-01</td>\n",
       "      <td>5.619881</td>\n",
       "      <td>6.215336</td>\n",
       "      <td>14.957165</td>\n",
       "    </tr>\n",
       "    <tr>\n",
       "      <th>52</th>\n",
       "      <td>2005-05-01</td>\n",
       "      <td>5.330234</td>\n",
       "      <td>4.116367</td>\n",
       "      <td>15.332769</td>\n",
       "    </tr>\n",
       "    <tr>\n",
       "      <th>53</th>\n",
       "      <td>2005-06-01</td>\n",
       "      <td>4.739604</td>\n",
       "      <td>5.057611</td>\n",
       "      <td>23.942540</td>\n",
       "    </tr>\n",
       "    <tr>\n",
       "      <th>54</th>\n",
       "      <td>2005-07-01</td>\n",
       "      <td>2.994135</td>\n",
       "      <td>1.103817</td>\n",
       "      <td>15.388522</td>\n",
       "    </tr>\n",
       "    <tr>\n",
       "      <th>55</th>\n",
       "      <td>2005-08-01</td>\n",
       "      <td>2.841386</td>\n",
       "      <td>3.568665</td>\n",
       "      <td>16.914678</td>\n",
       "    </tr>\n",
       "    <tr>\n",
       "      <th>56</th>\n",
       "      <td>2005-09-01</td>\n",
       "      <td>3.779551</td>\n",
       "      <td>1.865602</td>\n",
       "      <td>18.289926</td>\n",
       "    </tr>\n",
       "    <tr>\n",
       "      <th>57</th>\n",
       "      <td>2005-10-01</td>\n",
       "      <td>5.383572</td>\n",
       "      <td>2.917112</td>\n",
       "      <td>23.461755</td>\n",
       "    </tr>\n",
       "    <tr>\n",
       "      <th>58</th>\n",
       "      <td>2005-11-01</td>\n",
       "      <td>5.792650</td>\n",
       "      <td>3.255483</td>\n",
       "      <td>24.255702</td>\n",
       "    </tr>\n",
       "    <tr>\n",
       "      <th>59</th>\n",
       "      <td>2005-12-01</td>\n",
       "      <td>5.730031</td>\n",
       "      <td>3.038548</td>\n",
       "      <td>25.452353</td>\n",
       "    </tr>\n",
       "  </tbody>\n",
       "</table>\n",
       "</div>"
      ],
      "text/plain": [
       "         date     _temp   _dewptm       _hum\n",
       "0  2001-01-01  4.902634  2.899825  20.862386\n",
       "1  2001-02-01  5.607722  3.197469  18.281749\n",
       "2  2001-03-01  5.603199  4.474374  16.391120\n",
       "3  2001-04-01  6.051923  2.864949  19.988866\n",
       "4  2001-05-01  5.289885  3.434888  16.253582\n",
       "5  2001-06-01  3.510862  3.161919  15.396224\n",
       "6  2001-07-01  2.696118  1.524977  12.768637\n",
       "7  2001-08-01  2.991215  2.712428  14.691724\n",
       "8  2001-09-01  3.911649  2.895208  15.847139\n",
       "9  2001-10-01  4.546847  4.611652  19.026074\n",
       "10 2001-11-01  5.685509  2.992663  15.620475\n",
       "11 2001-12-01  5.115430  2.105634  19.802850\n",
       "12 2002-01-01  4.525552  2.637664  19.865356\n",
       "13 2002-02-01  5.369199  3.428033  17.402892\n",
       "14 2002-03-01  6.023281  3.089344  16.655711\n",
       "15 2002-04-01  5.402973  4.212527  13.023545\n",
       "16 2002-05-01  5.602222  6.475738  19.842770\n",
       "17 2002-06-01  3.904578  2.892362  15.108278\n",
       "18 2002-07-01  3.122338  2.173878  11.418802\n",
       "19 2002-08-01  2.885836  1.402658  12.819601\n",
       "20 2002-09-01  3.305465  2.574118  16.696236\n",
       "21 2002-10-01  4.515443  3.199706  16.496952\n",
       "22 2002-11-01  5.075524  3.947431  17.053452\n",
       "23 2002-12-01  5.033260  2.756316  20.637630\n",
       "24 2003-01-01  4.819318  2.919097  17.956313\n",
       "25 2003-02-01  4.656613  3.094181  18.899929\n",
       "26 2003-03-01  5.664642  4.681530  17.469263\n",
       "27 2003-04-01  5.347962  3.511682  12.959178\n",
       "28 2003-05-01  4.999472  5.618143  13.861805\n",
       "29 2003-06-01  4.816889  5.202814  21.304764\n",
       "30 2003-07-01  3.127301  2.526363  14.399953\n",
       "31 2003-08-01  2.369330  2.450829  11.973982\n",
       "32 2003-09-01  2.770769  2.145548  14.189467\n",
       "33 2003-10-01  4.777450  2.903509  16.370110\n",
       "34 2003-11-01  5.831013  3.341968  16.450517\n",
       "35 2003-12-01  5.016074  2.967196  19.193715\n",
       "36 2004-01-01  3.971750  2.551299  16.599684\n",
       "37 2004-02-01  6.152514  3.716972  21.744059\n",
       "38 2004-03-01  6.100989  4.397483  19.849648\n",
       "39 2004-04-01  5.333507  4.448924  16.623367\n",
       "40 2004-05-01  5.574641  3.949271  16.489974\n",
       "41 2004-06-01  4.093025  2.672632  15.391059\n",
       "42 2004-07-01  3.267142  2.102743  16.625959\n",
       "43 2004-08-01  2.644427  1.814487  14.724571\n",
       "44 2004-09-01  3.736955  2.330586  20.875522\n",
       "45 2004-10-01  4.755651  3.464167  22.211180\n",
       "46 2004-11-01  5.367019  3.106059  24.809070\n",
       "47 2004-12-01  4.748015  2.575043  22.257142\n",
       "48 2005-01-01  4.239781  2.531212  22.098332\n",
       "49 2005-02-01  4.598275  3.976271  22.911350\n",
       "50 2005-03-01  4.739773  4.054798  23.269999\n",
       "51 2005-04-01  5.619881  6.215336  14.957165\n",
       "52 2005-05-01  5.330234  4.116367  15.332769\n",
       "53 2005-06-01  4.739604  5.057611  23.942540\n",
       "54 2005-07-01  2.994135  1.103817  15.388522\n",
       "55 2005-08-01  2.841386  3.568665  16.914678\n",
       "56 2005-09-01  3.779551  1.865602  18.289926\n",
       "57 2005-10-01  5.383572  2.917112  23.461755\n",
       "58 2005-11-01  5.792650  3.255483  24.255702\n",
       "59 2005-12-01  5.730031  3.038548  25.452353"
      ]
     },
     "execution_count": 75,
     "metadata": {},
     "output_type": "execute_result"
    }
   ],
   "source": [
    "mnthstdevdataR0"
   ]
  },
  {
   "cell_type": "markdown",
   "metadata": {},
   "source": [
    "### Creating a linear regression model to predict monthly temperature\n",
    "#### We will use the following regression model\n",
    "AvgTemp = a + b (AvgDew) + c (AvgHum)    "
   ]
  },
  {
   "cell_type": "code",
   "execution_count": 76,
   "metadata": {},
   "outputs": [],
   "source": [
    "mnthavgdataR0=mnthavgdataR0.dropna() ##Removing missing values"
   ]
  },
  {
   "cell_type": "code",
   "execution_count": 80,
   "metadata": {},
   "outputs": [],
   "source": [
    "##Identifiying regressors X--(humidity, dewpoint) and dependent variables Y--(Temp)"
   ]
  },
  {
   "cell_type": "code",
   "execution_count": 85,
   "metadata": {},
   "outputs": [],
   "source": [
    "X= mnthavgdataR0[{' _dewptm',' _hum'}]"
   ]
  },
  {
   "cell_type": "code",
   "execution_count": 86,
   "metadata": {},
   "outputs": [],
   "source": [
    "Y=mnthavgdataR0[' _temp']"
   ]
  },
  {
   "cell_type": "code",
   "execution_count": 87,
   "metadata": {},
   "outputs": [],
   "source": [
    "from sklearn.model_selection import train_test_split"
   ]
  },
  {
   "cell_type": "markdown",
   "metadata": {},
   "source": [
    "### We have to be careful while shuffling the data at the time of splitting into testing and training sets\n",
    "\n",
    "train_test_split(a,test_size=0.2,shuffle=False)# using argument for shuffle as false doesnot reshuffle the data. \n",
    "                                 #This may be important when dealing with time series data\n",
    "                                 #value of test_size decides the size of the test data. 0.2 means 20 percent of data \n",
    "                                #are used for testing while 80 percent data are used for training the model\n",
    "    "
   ]
  },
  {
   "cell_type": "code",
   "execution_count": 88,
   "metadata": {},
   "outputs": [],
   "source": [
    "X_train, X_test, Y_train, Y_test = train_test_split(X, Y, test_size = 0.2,shuffle=False)"
   ]
  },
  {
   "cell_type": "code",
   "execution_count": 89,
   "metadata": {},
   "outputs": [],
   "source": [
    "from sklearn.linear_model import LinearRegression\n",
    "from sklearn.metrics import mean_squared_error,r2_score\n"
   ]
  },
  {
   "cell_type": "code",
   "execution_count": 90,
   "metadata": {},
   "outputs": [
    {
     "data": {
      "text/plain": [
       "LinearRegression()"
      ]
     },
     "execution_count": 90,
     "metadata": {},
     "output_type": "execute_result"
    }
   ],
   "source": [
    "reg = LinearRegression()#creating a regression model\n",
    "reg.fit(X_train, Y_train) #fitting the model"
   ]
  },
  {
   "cell_type": "code",
   "execution_count": 148,
   "metadata": {},
   "outputs": [],
   "source": [
    "#predicting temperature using X_test data once regression parameters are obtained.\n",
    "y_hat = reg.predict(X_test) "
   ]
  },
  {
   "cell_type": "code",
   "execution_count": 92,
   "metadata": {},
   "outputs": [
    {
     "data": {
      "text/plain": [
       "array([-0.35314311,  1.0055855 ])"
      ]
     },
     "execution_count": 92,
     "metadata": {},
     "output_type": "execute_result"
    }
   ],
   "source": [
    "#regression parameters\n",
    "reg.coef_"
   ]
  },
  {
   "cell_type": "code",
   "execution_count": 93,
   "metadata": {},
   "outputs": [
    {
     "data": {
      "text/plain": [
       "0.9713983316333122"
      ]
     },
     "execution_count": 93,
     "metadata": {},
     "output_type": "execute_result"
    }
   ],
   "source": [
    "reg.score(X_train,Y_train)"
   ]
  },
  {
   "cell_type": "code",
   "execution_count": 94,
   "metadata": {},
   "outputs": [],
   "source": [
    "testrmse = (np.sqrt(mean_squared_error(Y_test, y_hat))) #root mean squared error \n",
    "\n",
    "testr2 = r2_score(Y_test, y_hat) #accuracy"
   ]
  },
  {
   "cell_type": "code",
   "execution_count": 95,
   "metadata": {},
   "outputs": [
    {
     "data": {
      "text/plain": [
       "0.9060536148192082"
      ]
     },
     "execution_count": 95,
     "metadata": {},
     "output_type": "execute_result"
    }
   ],
   "source": [
    "testr2"
   ]
  },
  {
   "cell_type": "markdown",
   "metadata": {},
   "source": [
    "#### ----> Question for you: What is the meaning/diffrerence of the mean squared error,r2_score, reg.score?"
   ]
  },
  {
   "cell_type": "markdown",
   "metadata": {},
   "source": [
    "### This is where we look at p-values to understand the importance of regressors\n",
    "from sklearn.feaure_selection import f_regression. This is helpful in getting pvalues in sklearn"
   ]
  },
  {
   "cell_type": "code",
   "execution_count": 96,
   "metadata": {},
   "outputs": [],
   "source": [
    "from sklearn.feature_selection import f_regression"
   ]
  },
  {
   "cell_type": "code",
   "execution_count": 97,
   "metadata": {},
   "outputs": [
    {
     "data": {
      "text/plain": [
       "(array([16.1793613 , 39.41322489]), array([2.12468178e-04, 1.10786746e-07]))"
      ]
     },
     "execution_count": 97,
     "metadata": {},
     "output_type": "execute_result"
    }
   ],
   "source": [
    "f_regression(X_train,Y_train)"
   ]
  },
  {
   "cell_type": "code",
   "execution_count": 98,
   "metadata": {},
   "outputs": [],
   "source": [
    "pvalues=f_regression(X_train,Y_train)[1]"
   ]
  },
  {
   "cell_type": "code",
   "execution_count": 99,
   "metadata": {},
   "outputs": [
    {
     "data": {
      "text/plain": [
       "array([2.12468178e-04, 1.10786746e-07])"
      ]
     },
     "execution_count": 99,
     "metadata": {},
     "output_type": "execute_result"
    }
   ],
   "source": [
    "pvalues"
   ]
  },
  {
   "cell_type": "code",
   "execution_count": 100,
   "metadata": {},
   "outputs": [
    {
     "data": {
      "text/plain": [
       "array([0.000212, 0.      ])"
      ]
     },
     "execution_count": 100,
     "metadata": {},
     "output_type": "execute_result"
    }
   ],
   "source": [
    "pvalues.round(6)"
   ]
  },
  {
   "cell_type": "code",
   "execution_count": 101,
   "metadata": {},
   "outputs": [
    {
     "data": {
      "text/plain": [
       "2.1549121870044354"
      ]
     },
     "execution_count": 101,
     "metadata": {},
     "output_type": "execute_result"
    }
   ],
   "source": [
    "testrmse"
   ]
  },
  {
   "cell_type": "markdown",
   "metadata": {},
   "source": [
    "## ----->Task for you: Put all the indicators of accuracy and significance into a dataframe."
   ]
  },
  {
   "cell_type": "markdown",
   "metadata": {},
   "source": [
    "### Next we plot the original time series and predicted time series"
   ]
  },
  {
   "cell_type": "code",
   "execution_count": 110,
   "metadata": {},
   "outputs": [
    {
     "data": {
      "text/plain": [
       "[<matplotlib.lines.Line2D at 0x7feac4d40910>]"
      ]
     },
     "execution_count": 110,
     "metadata": {},
     "output_type": "execute_result"
    },
    {
     "data": {
      "image/png": "[encoded data removed]",
      "text/plain": [
       "<Figure size 576x504 with 1 Axes>"
      ]
     },
     "metadata": {
      "needs_background": "light"
     },
     "output_type": "display_data"
    }
   ],
   "source": [
    "fig, ax = plt.subplots(figsize = (8,7))\n",
    "ax.plot(mnthavgdataR0['date'],mnthavgdataR0[' _temp'],'r')#Ploting oringial monthly averaged time series data\n",
    "ax.plot(mnthavgdataR0['date'][48:],Y_test)#plotting training time series\n",
    "ax.plot(mnthavgdataR0['date'][0:48],Y_train)#Plot original time series in the predicted region\n",
    "ax.plot(mnthavgdataR0['date'][48:],y_hat,'violet')#plot predicted time series data\n"
   ]
  },
  {
   "cell_type": "markdown",
   "metadata": {},
   "source": [
    "#### Once we have linear regression parameters\n",
    "#### we predict temperature into the future based on dewpoint and humidity data\n",
    "#### Then compare predicted temperature against observed temperature data for this period."
   ]
  },
  {
   "cell_type": "code",
   "execution_count": 124,
   "metadata": {},
   "outputs": [],
   "source": [
    "#Predction and comparsion will be done for data from 2006 to 2010\n",
    "data2k10=dataND.loc[dataND.year.isin([2005,2006,2007,2008,2009,2010]),:]\n",
    "avgRn,sdevRn,avgdewRn,sdevdewRn,avghumRn,sdevhumRn=monthlyavg(data2k10)"
   ]
  },
  {
   "cell_type": "code",
   "execution_count": 126,
   "metadata": {},
   "outputs": [],
   "source": [
    "mnth1= [1, 2, 3, 4, 5, 6,7,8,9,10,11,12]*6\n",
    "yr1=[2005]*12\n",
    "yr2=[2006]*12\n",
    "yr3=[2007]*12\n",
    "yr4=[2008]*12\n",
    "yr5=[2009]*12\n",
    "yr6=[2010]*12\n",
    "yr=yr1+yr2+yr3+yr4+yr5+yr6"
   ]
  },
  {
   "cell_type": "markdown",
   "metadata": {},
   "source": [
    "#### Creating a 'date' column to keep track of time."
   ]
  },
  {
   "cell_type": "code",
   "execution_count": 127,
   "metadata": {},
   "outputs": [],
   "source": [
    "avgdatan = {' _temp': avgRn,\n",
    "        ' _dewptm': avgdewRn,\n",
    "     ' _hum': avghumRn}\n",
    "stdevdatan = {' _temp': sdevRn,\n",
    "        ' _dewptm': sdevdewRn,\n",
    "     ' _hum': sdevhumRn}\n",
    "\n",
    "\n",
    "dfm1 = pd.DataFrame({'YEAR': yr, 'MONTH': mnth1})\n",
    "dfm1['DATE'] = pd.to_datetime(dfm1[['YEAR', 'MONTH']].assign(DAY=1))\n",
    "mnthavgdataR0n = pd.DataFrame(avgdatan)\n",
    "mnthstdevdataR0n=pd.DataFrame(stdevdatan)\n",
    "mnthavgdataR0n['date']=dfm1['DATE']#Creating a 'date' column to keep track of time.\n",
    "mnthstdevdataR0n['date']=dfm1['DATE']#Creating a 'date' column to keep track of time.\n",
    "\n"
   ]
  },
  {
   "cell_type": "markdown",
   "metadata": {},
   "source": [
    "#### Separating observed data for dewpoint and humidity and temperature"
   ]
  },
  {
   "cell_type": "code",
   "execution_count": 128,
   "metadata": {},
   "outputs": [],
   "source": [
    "Xn= mnthavgdataR0n[{' _dewptm',' _hum'}]\n",
    "Yn=mnthavgdataR0n[' _temp']"
   ]
  },
  {
   "cell_type": "markdown",
   "metadata": {},
   "source": [
    " #### Predicting the values"
   ]
  },
  {
   "cell_type": "code",
   "execution_count": 129,
   "metadata": {},
   "outputs": [],
   "source": [
    "y_hatn = reg.predict(Xn) #predicting the values"
   ]
  },
  {
   "cell_type": "markdown",
   "metadata": {},
   "source": [
    "#### Ploting predcted and observed temperature"
   ]
  },
  {
   "cell_type": "code",
   "execution_count": 143,
   "metadata": {},
   "outputs": [
    {
     "data": {
      "text/plain": [
       "[<matplotlib.lines.Line2D at 0x7feac38e4dd0>]"
      ]
     },
     "execution_count": 143,
     "metadata": {},
     "output_type": "execute_result"
    },
    {
     "data": {
      "image/png": "[encoded data removed]",
      "text/plain": [
       "<Figure size 576x504 with 1 Axes>"
      ]
     },
     "metadata": {
      "needs_background": "light"
     },
     "output_type": "display_data"
    }
   ],
   "source": [
    "fig, ax = plt.subplots(figsize = (8,7))\n",
    "ax.plot(mnthavgdataR0['date'],mnthavgdataR0[' _temp'],'r')#plot original time series data from January 2001 to December 2004 \n",
    "ax.plot(mnthavgdataR0n['date'],y_hatn,'magenta')#plot predicted time series data from January 2005 to December 2010\n",
    "ax.plot(mnthavgdataR0n['date'],mnthavgdataR0n[' _temp'],'green')#plot original time series data from 2005 to 2010"
   ]
  },
  {
   "cell_type": "code",
   "execution_count": 144,
   "metadata": {},
   "outputs": [
    {
     "data": {
      "text/plain": [
       "[<matplotlib.lines.Line2D at 0x7feac386e410>]"
      ]
     },
     "execution_count": 144,
     "metadata": {},
     "output_type": "execute_result"
    },
    {
     "data": {
      "image/png": "[encoded data removed]",
      "text/plain": [
       "<Figure size 576x504 with 1 Axes>"
      ]
     },
     "metadata": {
      "needs_background": "light"
     },
     "output_type": "display_data"
    }
   ],
   "source": [
    "fig, ax = plt.subplots(figsize = (8,7))\n",
    "#Ploting the zero reference \n",
    "ax.plot(mnthavgdataR0['date'][48:],Y_test-Y_test)\n",
    "ax.plot(mnthavgdataR0n['date'],mnthavgdataR0n[' _temp']-mnthavgdataR0n[' _temp'],'magenta')#plot predicted time series data\n",
    "\n",
    "#Ploting the differnece between observed and predicted temperature values \n",
    "\n",
    "ax.plot(mnthavgdataR0['date'][48:],Y_test-y_hat)\n",
    "\n",
    "ax.plot(mnthavgdataR0n['date'],mnthavgdataR0n[' _temp']-y_hatn,'magenta')#plot predicted time series data\n"
   ]
  },
  {
   "cell_type": "markdown",
   "metadata": {},
   "source": [
    "## Additonal suggested excercises.\n",
    "1) Increase more regressors and see if the error reduces\n",
    "\n",
    "2) Try another model for temperature prediction. Explain the model you chose and justify it's use.\n",
    "\n",
    "3) Predict one of the categorial variables using logistic regression. Can try atleast one other relevant models\n",
    "\n",
    "4) Write a sumarizing report on what all this means in terms of accuracy of predictions, a) assuming you were a meterologists b) assuming you are interested in tempereature depdenet seasonal variations of mosquito populations.\n",
    "\n",
    "5) Include any other analysis you think will be usefull or will add insight."
   ]
  },
  {
   "cell_type": "code",
   "execution_count": null,
   "metadata": {},
   "outputs": [],
   "source": []
  }
 ],
 "metadata": {
  "kernelspec": {
   "display_name": "Python 3 (ipykernel)",
   "language": "python",
   "name": "python3"
  },
  "language_info": {
   "codemirror_mode": {
    "name": "ipython",
    "version": 3
   },
   "file_extension": ".py",
   "mimetype": "text/x-python",
   "name": "python",
   "nbconvert_exporter": "python",
   "pygments_lexer": "ipython3",
   "version": "3.9.7"
  }
 },
 "nbformat": 4,
 "nbformat_minor": 4
}
